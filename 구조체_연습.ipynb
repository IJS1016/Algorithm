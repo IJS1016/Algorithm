{
  "nbformat": 4,
  "nbformat_minor": 0,
  "metadata": {
    "colab": {
      "name": "구조체 연습",
      "provenance": [],
      "collapsed_sections": [],
      "authorship_tag": "ABX9TyOe+KLGMNwAiZbuGtqiAXIu",
      "include_colab_link": true
    },
    "kernelspec": {
      "name": "python3",
      "display_name": "Python 3"
    }
  },
  "cells": [
    {
      "cell_type": "markdown",
      "metadata": {
        "id": "view-in-github",
        "colab_type": "text"
      },
      "source": [
        "<a href=\"https://colab.research.google.com/github/IJS1016/Algorithm/blob/master/%EA%B5%AC%EC%A1%B0%EC%B2%B4_%EC%97%B0%EC%8A%B5.ipynb\" target=\"_parent\"><img src=\"https://colab.research.google.com/assets/colab-badge.svg\" alt=\"Open In Colab\"/></a>"
      ]
    },
    {
      "cell_type": "code",
      "metadata": {
        "id": "A3H8xVarEtMF",
        "colab_type": "code",
        "colab": {
          "base_uri": "https://localhost:8080/",
          "height": 143
        },
        "outputId": "ec6c4ba4-ac18-4e7b-f260-809bf596d607"
      },
      "source": [
        "# Code up 구조체\n",
        "# 1805 입체기동장치 생산공장\n",
        "\n",
        "data = {}\n",
        "\n",
        "n = input()\n",
        "\n",
        "for i in range(int(n)) : #{\n",
        "    a_tmp,b_tmp = input().split(\" \")\n",
        "\n",
        "    if a_tmp in data.keys() : #{\n",
        "        continue     \n",
        "    #}\n",
        "\n",
        "    else : data[int(a_tmp)] = b_tmp\n",
        "#}\n",
        "\n",
        "\n",
        "for a in sorted(data.keys()) : #{ # string sort는 자리수 상관 없이 작은 수부터 맞춤\n",
        "    #print(f\"{a} {data[a]}\")  # can not formating\n",
        "    print(str(a) + \" \" + data[a]) \n",
        "#}"
      ],
      "execution_count": 7,
      "outputs": [
        {
          "output_type": "stream",
          "text": [
            "3\n",
            "12 20\n",
            "3 22\n",
            "22 1\n",
            "3 22\n",
            "12 20\n",
            "22 1\n"
          ],
          "name": "stdout"
        }
      ]
    }
  ]
}