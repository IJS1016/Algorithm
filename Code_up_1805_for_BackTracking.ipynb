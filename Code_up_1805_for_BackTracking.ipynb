{
  "nbformat": 4,
  "nbformat_minor": 0,
  "metadata": {
    "colab": {
      "name": "Code up #1805 for BackTracking",
      "provenance": [],
      "authorship_tag": "ABX9TyMCsQkRm2M7xv4AjOC6z8i2",
      "include_colab_link": true
    },
    "kernelspec": {
      "name": "python3",
      "display_name": "Python 3"
    }
  },
  "cells": [
    {
      "cell_type": "markdown",
      "metadata": {
        "id": "view-in-github",
        "colab_type": "text"
      },
      "source": [
        "<a href=\"https://colab.research.google.com/github/IJS1016/Algorithm/blob/master/Code_up_1805_for_BackTracking.ipynb\" target=\"_parent\"><img src=\"https://colab.research.google.com/assets/colab-badge.svg\" alt=\"Open In Colab\"/></a>"
      ]
    },
    {
      "cell_type": "code",
      "metadata": {
        "id": "2QRQ5g1VREnd",
        "colab_type": "code",
        "colab": {}
      },
      "source": [
        "# CodeUp 3008 : 일곱 난쟁이\n",
        "# https://codeup.kr/problem.php?id=3008\n",
        "\n",
        "height = []\n",
        "\n",
        "for i in range(9): \n",
        "  height.append(int(input()))"
      ],
      "execution_count": 0,
      "outputs": []
    },
    {
      "cell_type": "code",
      "metadata": {
        "id": "TNkxmUpqeqf8",
        "colab_type": "code",
        "colab": {
          "base_uri": "https://localhost:8080/",
          "height": 140
        },
        "outputId": "889e5535-aad1-4d8d-e55f-263732c3dbca"
      },
      "source": [
        "#Test\n",
        "#height = [20, 7, 23, 19, 10, 15, 25 ,8, 13]\n",
        "\n",
        "height.sort()\n",
        "\n",
        "over_height = sum(height)-100\n",
        "\n",
        "def found_not_dwarf() : #{\n",
        "    global height\n",
        "    for idx, one in enumerate(height) : #{\n",
        "        for two in height[idx:] : #{\n",
        "            if over_height == one + two :\n",
        "                height.remove(one)\n",
        "                height.remove(two)        \n",
        "                return 0\n",
        "            #}\n",
        "        #}\n",
        "    #}\n",
        "#}\n",
        "found_not_dwarf()\n",
        "height = list(map(str, height))\n",
        "print(\"\\n\".join(height))"
      ],
      "execution_count": 16,
      "outputs": [
        {
          "output_type": "stream",
          "text": [
            "7\n",
            "8\n",
            "10\n",
            "13\n",
            "19\n",
            "20\n",
            "23\n"
          ],
          "name": "stdout"
        }
      ]
    }
  ]
}