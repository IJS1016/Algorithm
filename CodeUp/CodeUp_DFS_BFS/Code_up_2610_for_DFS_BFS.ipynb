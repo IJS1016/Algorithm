{
  "nbformat": 4,
  "nbformat_minor": 0,
  "metadata": {
    "colab": {
      "name": "Code up #2610 for DFS/BFS.ipynb",
      "provenance": [],
      "authorship_tag": "ABX9TyODVLDy9q+UXIZIWwpc33Z8",
      "include_colab_link": true
    },
    "kernelspec": {
      "name": "python3",
      "display_name": "Python 3"
    }
  },
  "cells": [
    {
      "cell_type": "markdown",
      "metadata": {
        "id": "view-in-github",
        "colab_type": "text"
      },
      "source": [
        "<a href=\"https://colab.research.google.com/github/IJS1016/Algorithm/blob/master/Code_up_2610_for_DFS_BFS.ipynb\" target=\"_parent\"><img src=\"https://colab.research.google.com/assets/colab-badge.svg\" alt=\"Open In Colab\"/></a>"
      ]
    },
    {
      "cell_type": "code",
      "metadata": {
        "id": "VdNL9KBqRyrn",
        "colab_type": "code",
        "colab": {
          "base_uri": "https://localhost:8080/",
          "height": 380
        },
        "outputId": "a87656c0-6f5e-4606-cb4a-8739f83e6241"
      },
      "source": [
        "# Code up #2610 : 그림판 채우기\n",
        "# https://codeup.kr/problem.php?id=2610\n",
        "\n",
        "paint = []\n",
        "\n",
        "for i in range(10) : #{\n",
        "    paint.append(list(input()))\n",
        "#}\n",
        "y, x = list(map(int, input().split(\" \")))"
      ],
      "execution_count": 63,
      "outputs": [
        {
          "output_type": "stream",
          "text": [
            "__________\n",
            "_____****_\n",
            "_____*__*_\n",
            "__*******_\n",
            "__*__*_**_\n",
            "__*__****_\n",
            "__*____*__\n",
            "__*____*__\n",
            "__******__\n",
            "__________\n"
          ],
          "name": "stdout"
        },
        {
          "output_type": "error",
          "ename": "ValueError",
          "evalue": "ignored",
          "traceback": [
            "\u001b[0;31m---------------------------------------------------------------------------\u001b[0m",
            "\u001b[0;31mValueError\u001b[0m                                Traceback (most recent call last)",
            "\u001b[0;32m<ipython-input-63-56548b450d18>\u001b[0m in \u001b[0;36m<module>\u001b[0;34m()\u001b[0m\n\u001b[1;32m      7\u001b[0m     \u001b[0mpaint\u001b[0m\u001b[0;34m.\u001b[0m\u001b[0mappend\u001b[0m\u001b[0;34m(\u001b[0m\u001b[0mlist\u001b[0m\u001b[0;34m(\u001b[0m\u001b[0minput\u001b[0m\u001b[0;34m(\u001b[0m\u001b[0;34m)\u001b[0m\u001b[0;34m)\u001b[0m\u001b[0;34m)\u001b[0m\u001b[0;34m\u001b[0m\u001b[0;34m\u001b[0m\u001b[0m\n\u001b[1;32m      8\u001b[0m \u001b[0;31m#}\u001b[0m\u001b[0;34m\u001b[0m\u001b[0;34m\u001b[0m\u001b[0;34m\u001b[0m\u001b[0m\n\u001b[0;32m----> 9\u001b[0;31m \u001b[0my\u001b[0m\u001b[0;34m,\u001b[0m \u001b[0mx\u001b[0m \u001b[0;34m=\u001b[0m \u001b[0mlist\u001b[0m\u001b[0;34m(\u001b[0m\u001b[0mmap\u001b[0m\u001b[0;34m(\u001b[0m\u001b[0mint\u001b[0m\u001b[0;34m,\u001b[0m \u001b[0minput\u001b[0m\u001b[0;34m(\u001b[0m\u001b[0;34m)\u001b[0m\u001b[0;34m.\u001b[0m\u001b[0msplit\u001b[0m\u001b[0;34m(\u001b[0m\u001b[0;34m\" \"\u001b[0m\u001b[0;34m)\u001b[0m\u001b[0;34m)\u001b[0m\u001b[0;34m)\u001b[0m\u001b[0;34m\u001b[0m\u001b[0;34m\u001b[0m\u001b[0m\n\u001b[0m",
            "\u001b[0;31mValueError\u001b[0m: invalid literal for int() with base 10: '__________'"
          ]
        }
      ]
    },
    {
      "cell_type": "code",
      "metadata": {
        "id": "U4O7v37sWuoZ",
        "colab_type": "code",
        "colab": {
          "base_uri": "https://localhost:8080/",
          "height": 54
        },
        "outputId": "3422dad4-51c2-428f-d72a-b0204623f322"
      },
      "source": [
        "#FOR TESTING\n",
        "str_paint = ['__________',\n",
        "         '_____****_',\n",
        "         '_____*__*_',\n",
        "         '__*******_',\n",
        "         '__*__*_**_',\n",
        "         '__*__****_',\n",
        "         '__*____*__',\n",
        "         '__*____*__',\n",
        "         '__******__',\n",
        "         '__________']\n",
        "\n",
        "paint = []\n",
        "\n",
        "for p in str_paint :\n",
        "    paint.append(list(p))\n",
        "x, y = [4,4]"
      ],
      "execution_count": 76,
      "outputs": [
        {
          "output_type": "stream",
          "text": [
            "[['_', '_', '_', '_', '_', '_', '_', '_', '_', '_'], ['_', '_', '_', '_', '_', '*', '*', '*', '*', '_'], ['_', '_', '_', '_', '_', '*', '_', '_', '*', '_'], ['_', '_', '*', '*', '*', '*', '*', '*', '*', '_'], ['_', '_', '*', '_', '_', '*', '_', '*', '*', '_'], ['_', '_', '*', '_', '_', '*', '*', '*', '*', '_'], ['_', '_', '*', '_', '_', '_', '_', '*', '_', '_'], ['_', '_', '*', '_', '_', '_', '_', '*', '_', '_'], ['_', '_', '*', '*', '*', '*', '*', '*', '_', '_'], ['_', '_', '_', '_', '_', '_', '_', '_', '_', '_']]\n"
          ],
          "name": "stdout"
        }
      ]
    },
    {
      "cell_type": "code",
      "metadata": {
        "id": "fIInepEaXUFS",
        "colab_type": "code",
        "colab": {
          "base_uri": "https://localhost:8080/",
          "height": 369
        },
        "outputId": "d3a72da7-de86-46bf-caea-1185ba6f79b4"
      },
      "source": [
        "# 해당 위치가 채워져 있는지 확인하고 채워주는 함수\n",
        "def check(x, y) : #{\n",
        "    global paint\n",
        "\n",
        "    if paint[x][y] == '_' :\n",
        "        paint[x][y] = \"*\"\n",
        "        return 1\n",
        "    else : return 0  \n",
        "#}\n",
        "\n",
        "# 상하좌우로 이동하면서 채워야 하는지 확인하는 함수\n",
        "# 만약 채워야하면 그 좌표에서 다시 확인하도록 fill_paint를 return\n",
        "def go_left(x, y) : #{\n",
        "    x = x-1\n",
        "    print(\"go_left\")\n",
        "    print(x,y)    \n",
        "    if check(x,y) == 1 :return fill_paint(x,y)\n",
        "#}\n",
        "\n",
        "def go_right(x, y) : #{\n",
        "    x = x+1\n",
        "    print(\"go_right\")\n",
        "    print(x,y)\n",
        "    if check(x,y) == 1 :return fill_paint(x,y)        \n",
        "#}\n",
        "\n",
        "def go_up(x, y) : #{\n",
        "    y = y-1\n",
        "    print(\"go_up\")\n",
        "    print(x,y)\n",
        "    if check(x,y) == 1 :return fill_paint(x,y)     \n",
        "#}\n",
        "\n",
        "def go_down(x, y) : #{\n",
        "    y = y+1\n",
        "    print(\"go_down\")\n",
        "    print(x,y)\n",
        "    if check(x,y) == 1 : return fill_paint(x,y)      \n",
        "#}\n",
        "\n",
        "# 좌표를 받으면 좌표에서부터 상하좌우로 채워야 하는지 확인하는 함수\n",
        "def fill_paint(x, y) : #{\n",
        "    if x > 0 : go_left(x, y)\n",
        "    if x < 9 : go_right(x, y) \n",
        "    if y > 0 : go_up(x, y)\n",
        "    if y < 9 : go_down(x, y)\n",
        "#}\n",
        "\n",
        "# 맨 처음 좌표가 채워져 있을 때는 함수를 실행하지 않음\n",
        "if check(x,y) == 1 : fill_paint(x, y)\n",
        "\n",
        "\n",
        "# string 형식으로 print 하기 위해 list를 string으로 변환\n",
        "str_paint = []\n",
        "for p in paint : #{\n",
        "    str_paint.append(\"\".join(p))\n",
        "#}\n",
        "\n",
        "print(\"\\n\".join(str_paint))"
      ],
      "execution_count": 78,
      "outputs": [
        {
          "output_type": "stream",
          "text": [
            "__________\n",
            "_____****_\n",
            "_____*__*_\n",
            "__*******_\n",
            "__****_**_\n",
            "__*******_\n",
            "__******__\n",
            "__******__\n",
            "__******__\n",
            "__________\n",
            "__________\n",
            "_____****_\n",
            "_____*__*_\n",
            "__*******_\n",
            "__****_**_\n",
            "__*******_\n",
            "__******__\n",
            "__******__\n",
            "__******__\n",
            "__________\n"
          ],
          "name": "stdout"
        }
      ]
    }
  ]
}