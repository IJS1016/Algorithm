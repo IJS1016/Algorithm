{
  "nbformat": 4,
  "nbformat_minor": 0,
  "metadata": {
    "colab": {
      "name": "Code up #1920 for Recursive.ipynb",
      "provenance": [],
      "authorship_tag": "ABX9TyMyh9AfX0r2q24Za56rAU4W",
      "include_colab_link": true
    },
    "kernelspec": {
      "name": "python3",
      "display_name": "Python 3"
    }
  },
  "cells": [
    {
      "cell_type": "markdown",
      "metadata": {
        "id": "view-in-github",
        "colab_type": "text"
      },
      "source": [
        "<a href=\"https://colab.research.google.com/github/IJS1016/Algorithm/blob/master/Code_up_1920_for_Recursive.ipynb\" target=\"_parent\"><img src=\"https://colab.research.google.com/assets/colab-badge.svg\" alt=\"Open In Colab\"/></a>"
      ]
    },
    {
      "cell_type": "code",
      "metadata": {
        "id": "bFzJ0zoyWucS",
        "colab_type": "code",
        "colab": {
          "base_uri": "https://localhost:8080/",
          "height": 52
        },
        "outputId": "c1559d6f-8058-47e6-d262-d38572f1455e"
      },
      "source": [
        "# Code up #1920 : 2진수 변환\n",
        "# https://codeup.kr/problem.php?id=1920\n",
        "\n",
        "n = int(input())\n",
        "\n",
        "result = []\n",
        "\n",
        "def decimal_to_binary(n) : #{\n",
        "    global result\n",
        "\n",
        "    #print(n)\n",
        "    result.append(str(n % 2))\n",
        "\n",
        "    if n > 1 : \n",
        "      decimal_to_binary(n//2)            \n",
        "#}\n",
        "\n",
        "decimal_to_binary(n)\n",
        "result.reverse()\n",
        "\n",
        "print(\"\".join(result))"
      ],
      "execution_count": 9,
      "outputs": [
        {
          "output_type": "stream",
          "text": [
            "11\n",
            "1011\n"
          ],
          "name": "stdout"
        }
      ]
    }
  ]
}