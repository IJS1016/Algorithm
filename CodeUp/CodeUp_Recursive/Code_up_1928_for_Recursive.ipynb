{
  "nbformat": 4,
  "nbformat_minor": 0,
  "metadata": {
    "colab": {
      "name": "Code up #1928 for Recursive.ipynb",
      "provenance": [],
      "collapsed_sections": [],
      "authorship_tag": "ABX9TyMfzBScdx9TGJRXWBYuODww",
      "include_colab_link": true
    },
    "kernelspec": {
      "name": "python3",
      "display_name": "Python 3"
    }
  },
  "cells": [
    {
      "cell_type": "markdown",
      "metadata": {
        "id": "view-in-github",
        "colab_type": "text"
      },
      "source": [
        "<a href=\"https://colab.research.google.com/github/IJS1016/Algorithm/blob/master/Code_up_1928_for_Recursive.ipynb\" target=\"_parent\"><img src=\"https://colab.research.google.com/assets/colab-badge.svg\" alt=\"Open In Colab\"/></a>"
      ]
    },
    {
      "cell_type": "code",
      "metadata": {
        "id": "etfLH7G_d4kr",
        "colab_type": "code",
        "colab": {
          "base_uri": "https://localhost:8080/",
          "height": 34
        },
        "outputId": "e99d372d-2e93-49d2-c376-ad4fb73795f5"
      },
      "source": [
        "# CodeUp #1928 : 우박수 (3n+1)\n",
        "# https://codeup.kr/problem.php?id=1928\n",
        "\n",
        "n = int(input())"
      ],
      "execution_count": 2,
      "outputs": [
        {
          "output_type": "stream",
          "text": [
            "5\n"
          ],
          "name": "stdout"
        }
      ]
    },
    {
      "cell_type": "code",
      "metadata": {
        "id": "Cpy_nGdleKtG",
        "colab_type": "code",
        "colab": {
          "base_uri": "https://localhost:8080/",
          "height": 140
        },
        "outputId": "8b6fec02-ffff-44e4-b161-6695a4b20632"
      },
      "source": [
        "def calculate_n(n): #{\n",
        "    global history\n",
        "    print(n)\n",
        "    \n",
        "    if n == 1 : return 0\n",
        "    elif n % 2 == 1 :#{\n",
        "        calculate_n(3*n+1)\n",
        "    #}    \n",
        "    else : calculate_n(int(n/2))\n",
        "#}\n",
        "\n",
        "calculate_n(n)"
      ],
      "execution_count": 13,
      "outputs": [
        {
          "output_type": "stream",
          "text": [
            "5\n",
            "16\n",
            "8\n",
            "4\n",
            "2\n",
            "1\n",
            "\n"
          ],
          "name": "stdout"
        }
      ]
    }
  ]
}