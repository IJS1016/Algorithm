{
  "nbformat": 4,
  "nbformat_minor": 0,
  "metadata": {
    "colab": {
      "name": "Code up #4684 for Greedy.ipynb",
      "provenance": [],
      "collapsed_sections": [],
      "authorship_tag": "ABX9TyOAMBoRzRJChHfVQBiD1FBr",
      "include_colab_link": true
    },
    "kernelspec": {
      "name": "python3",
      "display_name": "Python 3"
    }
  },
  "cells": [
    {
      "cell_type": "markdown",
      "metadata": {
        "id": "view-in-github",
        "colab_type": "text"
      },
      "source": [
        "<a href=\"https://colab.research.google.com/github/IJS1016/Algorithm/blob/master/Code_up_4684_for_Greedy.ipynb\" target=\"_parent\"><img src=\"https://colab.research.google.com/assets/colab-badge.svg\" alt=\"Open In Colab\"/></a>"
      ]
    },
    {
      "cell_type": "code",
      "metadata": {
        "id": "C-Q9dMDLNLI_",
        "colab_type": "code",
        "colab": {
          "base_uri": "https://localhost:8080/",
          "height": 52
        },
        "outputId": "dd429676-da01-461d-dd5e-3a052ec545e2"
      },
      "source": [
        "# Code Up #4684 자물쇠\n",
        "# 예시랑 순서는 다 맞게 나오는데 답이 아니다.\n",
        "# 다음에 다시 확인해보기\n",
        "num      = input()\n",
        "lock_num = list(map(int, input().split(\" \")))"
      ],
      "execution_count": 31,
      "outputs": [
        {
          "output_type": "stream",
          "text": [
            "10\n",
            "9 2 1 10 3 4 5 6 7 8\n"
          ],
          "name": "stdout"
        }
      ]
    },
    {
      "cell_type": "code",
      "metadata": {
        "id": "WJf0zy8CQ_5e",
        "colab_type": "code",
        "colab": {
          "base_uri": "https://localhost:8080/",
          "height": 70
        },
        "outputId": "be609925-6f0a-42c1-dcaa-0338f55b2607"
      },
      "source": [
        "# example\n",
        "# num = 10\n",
        "# lock_num = [9, 2, 1, 10, 3, 4, 5, 6, 7, 8]\n",
        "\n",
        "\n",
        "# 풀이 #\n",
        "# 처음 trend 증감, 초기값 설정하는 부분\n",
        "# trend 구분 시에 1->num (-) / num -> 1 (+) 추가로 넣어주기\n",
        "# 만약 초기 trend가 감소다 -> 세번째 왼쪽으로 돌릴 때 바꾼 부분이 걸려 있다.\n",
        "# trend가 증가로 언제 바뀌는지 확인해줘 위치를 확인한다.\n",
        "# 항상 (시작)감 (끝)증 이다. 다음이 -1 => list.insert(0, x) 다음이 +1 => list.append(x)\n",
        "# 시작의 위치 > 끝 위치 -> 시작이 앞으로 오도록 두번째 shift 조절 시작 num 만큼 shift\n",
        "# 첫번째 shift의 수는 1의 위치이다! : num-1의 위치\n",
        "\n",
        "change = []\n",
        "\n",
        "def check_lock_pattern(lock_num) : #{\n",
        "    b_trend = -2 \n",
        "    \n",
        "    for i in range(len(lock_num)) : #{\n",
        "        try : #{\n",
        "            b_trend = trend_check(lock_num[i], lock_num[i+1], b_trend, i)\n",
        "            if len(change) == 2 : break\n",
        "        #}\n",
        "        except : #{\n",
        "            b_trend = trend_check(lock_num[i], lock_num[0], b_trend, i)\n",
        "        #}\n",
        "    #}\n",
        "\n",
        "    if change[0] > change[1] : #{\n",
        "        p3 = num - change[0]\n",
        "        p2 = [0, change[1] + p3]\n",
        "    #}\n",
        "    else : #{\n",
        "        p3 = 1\n",
        "        p2 = [change[0]+1, change[1]+1]\n",
        "    #}\n",
        "\n",
        "    \n",
        "    # print(lock_num)\n",
        "    # 3 shift\n",
        "    lock_num = lock_num[-p3:] + lock_num[:-p3] \n",
        "    \n",
        "    # print(f\"p3 : {p3}\")\n",
        "    # print(lock_num)\n",
        "    # 2 change\n",
        "    ch_lock = lock_num[p2[0]:p2[1]+1]\n",
        "    ch_lock.reverse()\n",
        "\n",
        "    lock_num = lock_num[:p2[0]] + ch_lock + lock_num[p2[1]+1:]\n",
        "\n",
        "    # print(f\"p2 : {p2[0]},{p2[1]}\")\n",
        "    # print(lock_num) \n",
        "    # 1 shift\n",
        "    p1 = num - lock_num.index(1)\n",
        "    lock_num = lock_num[-p1:] + lock_num[:-p1] \n",
        "\n",
        "    # print(f\"p1 : {p1}\")\n",
        "    # print(lock_num)\n",
        "    \n",
        "    p2 = [p2[0]+1, p2[1]+1]\n",
        "\n",
        "    return p1, p2, p3\n",
        "#}\n",
        "\n",
        "def trend_check(n1, n2, b_trend, idx) :#{\n",
        "    global change\n",
        "    diff = n2 - n1\n",
        "\n",
        "    # check init trend (0 : increase, 1 : decrease)\n",
        "    if diff == 1 or diff == -num+1 : #{ \n",
        "        if b_trend == -1 : change.append(idx-1)\n",
        "        return 0    \n",
        "    #}\n",
        "    elif diff == -1 or diff == num-1 : #{\n",
        "        if b_trend == -1 : change.insert(0, idx)\n",
        "        return 1   \n",
        "    #}\n",
        "    else : return -1\n",
        "#}\n",
        "\n",
        "p1, p2 ,p3 = check_lock_pattern(lock_num)\n",
        "print(p1)\n",
        "print(\" \".join(map(str,p2)))\n",
        "print(p3)"
      ],
      "execution_count": 49,
      "outputs": [
        {
          "output_type": "stream",
          "text": [
            "7\n",
            "3 5\n",
            "1\n"
          ],
          "name": "stdout"
        }
      ]
    },
    {
      "cell_type": "code",
      "metadata": {
        "id": "cVN-mwGOXbyE",
        "colab_type": "code",
        "colab": {}
      },
      "source": [
        ""
      ],
      "execution_count": null,
      "outputs": []
    }
  ]
}