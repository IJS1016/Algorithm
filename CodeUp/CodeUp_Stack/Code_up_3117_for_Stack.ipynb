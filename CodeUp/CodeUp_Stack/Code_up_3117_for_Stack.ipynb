{
  "nbformat": 4,
  "nbformat_minor": 0,
  "metadata": {
    "colab": {
      "name": "Code up #3117  for Stack.ipynb",
      "provenance": [],
      "authorship_tag": "ABX9TyOcDgS7NMI1XHrrZqPhmR8v",
      "include_colab_link": true
    },
    "kernelspec": {
      "name": "python3",
      "display_name": "Python 3"
    }
  },
  "cells": [
    {
      "cell_type": "markdown",
      "metadata": {
        "id": "view-in-github",
        "colab_type": "text"
      },
      "source": [
        "<a href=\"https://colab.research.google.com/github/IJS1016/Algorithm/blob/master/Code_up_3117_for_Stack.ipynb\" target=\"_parent\"><img src=\"https://colab.research.google.com/assets/colab-badge.svg\" alt=\"Open In Colab\"/></a>"
      ]
    },
    {
      "cell_type": "code",
      "metadata": {
        "id": "l_aDHxkusx79",
        "colab_type": "code",
        "colab": {
          "base_uri": "https://localhost:8080/",
          "height": 122
        },
        "outputId": "61619f30-a4dd-459d-e884-2b0ddcb28cba"
      },
      "source": [
        "# CodeUp 3117 : 0은 빼!\n",
        "# https://codeup.kr/problem.php?id=3117\n",
        "#import sys\n",
        "\n",
        "stack = []\n",
        "k = int(input())\n",
        "\n",
        "'''\n",
        "# sys.stdin 속도는 더 빠르지만 Colab에서 입력을 받지 않음\n",
        "for _ in range(int(k)) : #{\n",
        "    num = sys.stdin.readline()\n",
        "    print(num)\n",
        "\n",
        "    if num == 0 : #{\n",
        "        try :\n",
        "            stack.pop()\n",
        "        except : pass\n",
        "    #}\n",
        "    else : stack.append(num)\n",
        "#}\n",
        "\n",
        "'''\n",
        "# input()\n",
        "for _ in range(k) : #{\n",
        "    num = int(input())\n",
        "\n",
        "    if num == 0 : #{\n",
        "        try :\n",
        "            stack.pop()\n",
        "        except : pass\n",
        "    #}\n",
        "    else : stack.append(num)\n",
        "#}\n",
        "\n",
        "print(sum(stack))"
      ],
      "execution_count": 4,
      "outputs": [
        {
          "output_type": "stream",
          "text": [
            "4\n",
            "3\n",
            "0\n",
            "0\n",
            "5\n",
            "5\n"
          ],
          "name": "stdout"
        }
      ]
    }
  ]
}