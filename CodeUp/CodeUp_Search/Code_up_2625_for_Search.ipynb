{
  "nbformat": 4,
  "nbformat_minor": 0,
  "metadata": {
    "colab": {
      "name": "Code up #2625 for Search.ipynb",
      "provenance": [],
      "collapsed_sections": [],
      "authorship_tag": "ABX9TyO22HkZtj3JX9ZFDfzhIk+J",
      "include_colab_link": true
    },
    "kernelspec": {
      "name": "python3",
      "display_name": "Python 3"
    }
  },
  "cells": [
    {
      "cell_type": "markdown",
      "metadata": {
        "id": "view-in-github",
        "colab_type": "text"
      },
      "source": [
        "<a href=\"https://colab.research.google.com/github/IJS1016/Algorithm/blob/master/Code_up_2625_for_Search.ipynb\" target=\"_parent\"><img src=\"https://colab.research.google.com/assets/colab-badge.svg\" alt=\"Open In Colab\"/></a>"
      ]
    },
    {
      "cell_type": "code",
      "metadata": {
        "id": "NmCRYVI1Vt9T",
        "colab_type": "code",
        "colab": {
          "base_uri": "https://localhost:8080/",
          "height": 34
        },
        "outputId": "fedf320d-ea72-45bf-e15c-fa18420233fa"
      },
      "source": [
        "# CodeUp 2625:삼각화단 만들기(Small)\n",
        "# https://codeup.kr/problem.php?id=2625\n",
        "\n",
        "n = int(input())"
      ],
      "execution_count": 6,
      "outputs": [
        {
          "output_type": "stream",
          "text": [
            "9\n"
          ],
          "name": "stdout"
        }
      ]
    },
    {
      "cell_type": "code",
      "metadata": {
        "id": "zTItIE9bZTvK",
        "colab_type": "code",
        "colab": {
          "base_uri": "https://localhost:8080/",
          "height": 34
        },
        "outputId": "01da9519-e124-47be-f6f4-f3310d981f3d"
      },
      "source": [
        "result = 0\n",
        "\n",
        "c_max = int((n-1)/2)\n",
        "\n",
        "for c in range(c_max, 1, -1) : #{\n",
        "    global result\n",
        "\n",
        "    flag = False\n",
        "    sum_ab = n - c   \n",
        "\n",
        "    for a in range(1, sum_ab) : #{\n",
        "        b = sum_ab - a\n",
        "        \n",
        "        if b < a : break\n",
        "        if c >= b and c >= a :\n",
        "            result += 1\n",
        "            flag = True\n",
        "            \n",
        "    #}\n",
        "    if flag == False : \n",
        "        break\n",
        "#}\n",
        "\n",
        "print(result)"
      ],
      "execution_count": 20,
      "outputs": [
        {
          "output_type": "stream",
          "text": [
            "3\n"
          ],
          "name": "stdout"
        }
      ]
    }
  ]
}