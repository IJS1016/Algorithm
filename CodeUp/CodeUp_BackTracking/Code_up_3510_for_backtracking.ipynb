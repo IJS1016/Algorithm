{
  "nbformat": 4,
  "nbformat_minor": 0,
  "metadata": {
    "colab": {
      "name": "Code up #3510 for backtracking.ipynb",
      "provenance": [],
      "authorship_tag": "ABX9TyMXqlNULtAVlR8PWwRm4ZhZ",
      "include_colab_link": true
    },
    "kernelspec": {
      "name": "python3",
      "display_name": "Python 3"
    }
  },
  "cells": [
    {
      "cell_type": "markdown",
      "metadata": {
        "id": "view-in-github",
        "colab_type": "text"
      },
      "source": [
        "<a href=\"https://colab.research.google.com/github/IJS1016/Algorithm/blob/master/Code_up_3510_for_backtracking.ipynb\" target=\"_parent\"><img src=\"https://colab.research.google.com/assets/colab-badge.svg\" alt=\"Open In Colab\"/></a>"
      ]
    },
    {
      "cell_type": "code",
      "metadata": {
        "id": "HCFGwUF6-RXo",
        "colab_type": "code",
        "colab": {
          "base_uri": "https://localhost:8080/",
          "height": 70
        },
        "outputId": "e7b1d2c9-40c4-4c35-a071-20021a8f368b"
      },
      "source": [
        "# CodeUp #3510 : 예산관리\n",
        "# https://codeup.kr/problem.php?id=3510\n",
        "\n",
        "b = int(input())\n",
        "n = int(input())\n",
        "\n",
        "nb_set = list(map(int, (input()).split(\" \")))"
      ],
      "execution_count": 10,
      "outputs": [
        {
          "output_type": "stream",
          "text": [
            "40\n",
            "6\n",
            "7 13 17 19 29 31\n"
          ],
          "name": "stdout"
        }
      ]
    },
    {
      "cell_type": "code",
      "metadata": {
        "id": "FIDoyc4b-4X9",
        "colab_type": "code",
        "colab": {
          "base_uri": "https://localhost:8080/",
          "height": 345
        },
        "outputId": "a0af2ad9-3cdc-487d-b9ca-6f93d8749fe5"
      },
      "source": [
        "# For Testing ####################\n",
        "#b = 40\n",
        "#n = 6\n",
        "#nb_set = [7, 13, 17, 19, 29, 31]\n",
        "##################################\n",
        "\n",
        "sum_result = set([])\n",
        "\n",
        "def calculate_sum(tmp, nb_set) : #{\n",
        "    global sum_result    \n",
        "\n",
        "    if len(nb_set)  != 0 : #{\n",
        "        if tmp == b :\n",
        "            sum_result = [b]\n",
        "            return 0\n",
        "\n",
        "        if tmp < b : #{\n",
        "            sum_result.add(tmp)\n",
        "            calculate_sum(tmp, nb_set[1:])\n",
        "        #}\n",
        "\n",
        "        if (tmp+nb_set[0]) < b : #{}\n",
        "            sum_result.add(tmp + nb_set[0])\n",
        "            calculate_sum(tmp + nb_set[0], nb_set[1:])\n",
        "        #}\n",
        "    #}\n",
        "#}\n",
        "\n",
        "calculate_sum(0, nb_set)\n",
        "print(max(list(sum_result)))"
      ],
      "execution_count": 11,
      "outputs": [
        {
          "output_type": "error",
          "ename": "TypeError",
          "evalue": "ignored",
          "traceback": [
            "\u001b[0;31m---------------------------------------------------------------------------\u001b[0m",
            "\u001b[0;31mTypeError\u001b[0m                                 Traceback (most recent call last)",
            "\u001b[0;32m<ipython-input-11-01c518b7e40c>\u001b[0m in \u001b[0;36m<module>\u001b[0;34m()\u001b[0m\n\u001b[1;32m     27\u001b[0m \u001b[0;31m#}\u001b[0m\u001b[0;34m\u001b[0m\u001b[0;34m\u001b[0m\u001b[0;34m\u001b[0m\u001b[0m\n\u001b[1;32m     28\u001b[0m \u001b[0;34m\u001b[0m\u001b[0m\n\u001b[0;32m---> 29\u001b[0;31m \u001b[0mcalculate_sum\u001b[0m\u001b[0;34m(\u001b[0m\u001b[0;36m0\u001b[0m\u001b[0;34m,\u001b[0m \u001b[0mnb_set\u001b[0m\u001b[0;34m)\u001b[0m\u001b[0;34m\u001b[0m\u001b[0;34m\u001b[0m\u001b[0m\n\u001b[0m\u001b[1;32m     30\u001b[0m \u001b[0mprint\u001b[0m\u001b[0;34m(\u001b[0m\u001b[0mmax\u001b[0m\u001b[0;34m(\u001b[0m\u001b[0mlist\u001b[0m\u001b[0;34m(\u001b[0m\u001b[0msum_result\u001b[0m\u001b[0;34m)\u001b[0m\u001b[0;34m)\u001b[0m\u001b[0;34m)\u001b[0m\u001b[0;34m\u001b[0m\u001b[0;34m\u001b[0m\u001b[0m\n",
            "\u001b[0;32m<ipython-input-11-01c518b7e40c>\u001b[0m in \u001b[0;36mcalculate_sum\u001b[0;34m(tmp, nb_set)\u001b[0m\n\u001b[1;32m     10\u001b[0m     \u001b[0;32mglobal\u001b[0m \u001b[0msum_result\u001b[0m\u001b[0;34m\u001b[0m\u001b[0;34m\u001b[0m\u001b[0m\n\u001b[1;32m     11\u001b[0m \u001b[0;34m\u001b[0m\u001b[0m\n\u001b[0;32m---> 12\u001b[0;31m     \u001b[0;32mif\u001b[0m \u001b[0mlen\u001b[0m\u001b[0;34m(\u001b[0m\u001b[0mnb_set\u001b[0m\u001b[0;34m)\u001b[0m  \u001b[0;34m!=\u001b[0m \u001b[0;36m0\u001b[0m \u001b[0;34m:\u001b[0m \u001b[0;31m#{\u001b[0m\u001b[0;34m\u001b[0m\u001b[0;34m\u001b[0m\u001b[0m\n\u001b[0m\u001b[1;32m     13\u001b[0m         \u001b[0;32mif\u001b[0m \u001b[0mtmp\u001b[0m \u001b[0;34m==\u001b[0m \u001b[0mb\u001b[0m \u001b[0;34m:\u001b[0m\u001b[0;34m\u001b[0m\u001b[0;34m\u001b[0m\u001b[0m\n\u001b[1;32m     14\u001b[0m             \u001b[0msum_result\u001b[0m \u001b[0;34m=\u001b[0m \u001b[0;34m[\u001b[0m\u001b[0mb\u001b[0m\u001b[0;34m]\u001b[0m\u001b[0;34m\u001b[0m\u001b[0;34m\u001b[0m\u001b[0m\n",
            "\u001b[0;31mTypeError\u001b[0m: object of type 'map' has no len()"
          ]
        }
      ]
    }
  ]
}