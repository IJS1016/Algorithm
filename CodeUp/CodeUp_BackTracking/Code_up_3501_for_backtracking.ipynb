{
  "nbformat": 4,
  "nbformat_minor": 0,
  "metadata": {
    "colab": {
      "name": "Code up #3501 for backtracking.ipynb",
      "provenance": [],
      "collapsed_sections": [],
      "authorship_tag": "ABX9TyNV2Oizm4Rf/l4wayajsaPe",
      "include_colab_link": true
    },
    "kernelspec": {
      "name": "python3",
      "display_name": "Python 3"
    }
  },
  "cells": [
    {
      "cell_type": "markdown",
      "metadata": {
        "id": "view-in-github",
        "colab_type": "text"
      },
      "source": [
        "<a href=\"https://colab.research.google.com/github/IJS1016/Algorithm/blob/master/Code_up_3501_for_backtracking.ipynb\" target=\"_parent\"><img src=\"https://colab.research.google.com/assets/colab-badge.svg\" alt=\"Open In Colab\"/></a>"
      ]
    },
    {
      "cell_type": "code",
      "metadata": {
        "id": "U048lmRwNfPK",
        "colab_type": "code",
        "colab": {}
      },
      "source": [
        "# Code Up 3501 : RGB 거리(Small)\n",
        "\n",
        "# import list to save\n",
        "price_info = []\n",
        "total_price_set = []\n",
        "\n",
        "# Get input data\n",
        "x = int(input())\n",
        "\n",
        "for i in range(x) : #{\n",
        "  price_info.append(list(map(int,input().split(\" \"))))\n",
        "#}"
      ],
      "execution_count": null,
      "outputs": []
    },
    {
      "cell_type": "code",
      "metadata": {
        "id": "RXBH1to9gPzb",
        "colab_type": "code",
        "colab": {
          "base_uri": "https://localhost:8080/",
          "height": 34
        },
        "outputId": "dbbb3d66-6139-480c-d67f-f2c6bc57eae2"
      },
      "source": [
        "# FOR TESTING\n",
        "# x = 3\n",
        "# price_info = [[26, 40, 83], [49, 60, 57], [13, 89, 99]]\n",
        "\n",
        "# 중간에 total 값보다 크면 계산 멈추기\n",
        "\n",
        "def calculate_price(clr, data, price_info, total): #{\n",
        "    total += data\n",
        "\n",
        "    # 중간 계산 값이 total 보다 크면 계산을 멈춘다.\n",
        "    if len(total_price_set) > 0 :\n",
        "        if min(total_price_set) < total : \n",
        "          return\n",
        "\n",
        "    if len(price_info) == 0 : \n",
        "        total_price_set.append(total)\n",
        "        return\n",
        "\n",
        "    if clr == 'r' : #{\n",
        "        next = [['g', 1], ['b', 2]]    \n",
        "    #}\n",
        "    elif clr == 'g' : #{\n",
        "        next = [['r', 0], ['b', 2]]    \n",
        "    #}\n",
        "    elif clr == 'b' : #{\n",
        "        next = [['r', 0], ['g', 1]]    \n",
        "    #}\n",
        "    else : #{\n",
        "        next = [['r', 0], ['g', 1], ['b', 2]]    \n",
        "    #}\n",
        "\n",
        "    for n in next : #{\n",
        "        calculate_price(n[0], price_info[0][n[1]] ,price_info[1:], total)   \n",
        "    #}\n",
        "#}\n",
        "\n",
        "calculate_price('n', 0, price_info, 0)\n",
        "\n",
        "print(min(total_price_set))"
      ],
      "execution_count": 29,
      "outputs": [
        {
          "output_type": "stream",
          "text": [
            "96\n"
          ],
          "name": "stdout"
        }
      ]
    }
  ]
}