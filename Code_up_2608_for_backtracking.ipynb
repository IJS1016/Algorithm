{
  "nbformat": 4,
  "nbformat_minor": 0,
  "metadata": {
    "colab": {
      "name": "Code up #2608 for backtracking.ipynb",
      "provenance": [],
      "authorship_tag": "ABX9TyMTYokohmqb2tOPwHHe6f6I",
      "include_colab_link": true
    },
    "kernelspec": {
      "name": "python3",
      "display_name": "Python 3"
    }
  },
  "cells": [
    {
      "cell_type": "markdown",
      "metadata": {
        "id": "view-in-github",
        "colab_type": "text"
      },
      "source": [
        "<a href=\"https://colab.research.google.com/github/IJS1016/Algorithm/blob/master/Code_up_2608_for_backtracking.ipynb\" target=\"_parent\"><img src=\"https://colab.research.google.com/assets/colab-badge.svg\" alt=\"Open In Colab\"/></a>"
      ]
    },
    {
      "cell_type": "code",
      "metadata": {
        "id": "2QRQ5g1VREnd",
        "colab_type": "code",
        "colab": {
          "base_uri": "https://localhost:8080/",
          "height": 34
        },
        "outputId": "dc3b5be1-57d2-4f80-ad09-038a33688b60"
      },
      "source": [
        "# CodeUp #2608 : 동아리 회장 선거\n",
        "# https://codeup.kr/problem.php?id=2608\n",
        "\n",
        "n = int(input())"
      ],
      "execution_count": 3,
      "outputs": [
        {
          "output_type": "stream",
          "text": [
            "3\n"
          ],
          "name": "stdout"
        }
      ]
    },
    {
      "cell_type": "code",
      "metadata": {
        "id": "3t13TtNQowht",
        "colab_type": "code",
        "colab": {
          "base_uri": "https://localhost:8080/",
          "height": 158
        },
        "outputId": "649ef777-3b5c-47ac-ed77-b8860e5dd4bf"
      },
      "source": [
        "def print_OX(case) : #{\n",
        "    print(((bin(case)[2:].zfill(n)).replace(\"0\",\"O\")).replace(\"1\",\"X\"))\n",
        "#}\n",
        "\n",
        "stop  = 2**n # int(\"0b1\"+\"0\"*n, 2) # or 2**n\n",
        "case  = 0\n",
        "\n",
        "while (case != int(stop)) : #{\n",
        "    print_OX(case)\n",
        "    case += 1\n",
        "#}"
      ],
      "execution_count": 30,
      "outputs": [
        {
          "output_type": "stream",
          "text": [
            "OOO\n",
            "OOX\n",
            "OXO\n",
            "OXX\n",
            "XOO\n",
            "XOX\n",
            "XXO\n",
            "XXX\n"
          ],
          "name": "stdout"
        }
      ]
    }
  ]
}