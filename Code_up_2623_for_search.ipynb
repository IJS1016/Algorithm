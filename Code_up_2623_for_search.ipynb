{
  "nbformat": 4,
  "nbformat_minor": 0,
  "metadata": {
    "colab": {
      "name": "Code up #2623",
      "provenance": [],
      "authorship_tag": "ABX9TyN62boHdkeMQa808WMbf8Gx",
      "include_colab_link": true
    },
    "kernelspec": {
      "name": "python3",
      "display_name": "Python 3"
    }
  },
  "cells": [
    {
      "cell_type": "markdown",
      "metadata": {
        "id": "view-in-github",
        "colab_type": "text"
      },
      "source": [
        "<a href=\"https://colab.research.google.com/github/IJS1016/Algorithm/blob/master/Code_up_2623_for_search.ipynb\" target=\"_parent\"><img src=\"https://colab.research.google.com/assets/colab-badge.svg\" alt=\"Open In Colab\"/></a>"
      ]
    },
    {
      "cell_type": "code",
      "metadata": {
        "id": "lzG1Do5QIxlu",
        "colab_type": "code",
        "colab": {
          "base_uri": "https://localhost:8080/",
          "height": 35
        },
        "outputId": "b93024df-9bdc-4a20-a5f2-c7b0f50cba78"
      },
      "source": [
        "# 탐색 기반 문제\n",
        "# 2623 : 최대공약수 구하기\n",
        "# 두 정수 a, b를 입력받아서, a, b의 최대공약수를 출력하시오.\n",
        "\n",
        "a, b = input().split(\" \")\n",
        "\n",
        "a = int(a)\n",
        "b = int(b)"
      ],
      "execution_count": 13,
      "outputs": [
        {
          "output_type": "stream",
          "text": [
            "64 128\n"
          ],
          "name": "stdout"
        }
      ]
    },
    {
      "cell_type": "code",
      "metadata": {
        "id": "qnYTX9UfLNo9",
        "colab_type": "code",
        "colab": {}
      },
      "source": [
        "def make_decimal_set() : #{\n",
        "    decimal_set = [2]\n",
        "\n",
        "    for n in range(2, 10000) : #{\n",
        "        flag = 0\n",
        "        for decimal in decimal_set : #{\n",
        "            if n % decimal == 0 : #{\n",
        "                flag = 1 \n",
        "                break\n",
        "            #}\n",
        "        #}\n",
        "        if flag == 0 : decimal_set.append(n)\n",
        "    #}\n",
        "    return decimal_set\n",
        "#}\n",
        "\n",
        "def find_divisor(n) : #{\n",
        "    global decimal_set\n",
        "    divisors = []\n",
        "\n",
        "    for decimal in decimal_set : #{\n",
        "        while (n % decimal == 0) : #{\n",
        "              n = n / decimal\n",
        "              divisors.append(decimal)\n",
        "        #}  \n",
        "    #}\n",
        "    return divisors\n",
        "#}\n",
        "\n",
        "def find_greatest_common_divisor(a, b) : #{\n",
        "    common_divisor = []\n",
        "    greatest_common_divisor = 1\n",
        "\n",
        "    a_divisors = find_divisor(a)\n",
        "    b_divisors = find_divisor(b)\n",
        "\n",
        "    for ad in a_divisors : #{\n",
        "        for bd in b_divisors : #{\n",
        "            if ad == bd : #{\n",
        "                common_divisor.append(ad)\n",
        "                a_divisors.remove(ad)\n",
        "                b_divisors.remove(ad)\n",
        "            #}    \n",
        "        #}\n",
        "    #}\n",
        "    for x in common_divisor : #{\n",
        "        greatest_common_divisor = greatest_common_divisor*x\n",
        "    #}\n",
        "    return greatest_common_divisor\n",
        "#}"
      ],
      "execution_count": 0,
      "outputs": []
    },
    {
      "cell_type": "code",
      "metadata": {
        "id": "XMuozBzsLW3w",
        "colab_type": "code",
        "colab": {}
      },
      "source": [
        "decimal_set = make_decimal_set()\n",
        "print(find_greatest_common_divisor(a,b))"
      ],
      "execution_count": 0,
      "outputs": []
    }
  ]
}