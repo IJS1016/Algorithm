{
  "nbformat": 4,
  "nbformat_minor": 0,
  "metadata": {
    "colab": {
      "name": "BZ_11729_for_Recursion.ipynb",
      "provenance": [],
      "collapsed_sections": [],
      "authorship_tag": "ABX9TyOjfUhCUZp3vBu2DgoFa3jP",
      "include_colab_link": true
    },
    "kernelspec": {
      "name": "python3",
      "display_name": "Python 3"
    }
  },
  "cells": [
    {
      "cell_type": "markdown",
      "metadata": {
        "id": "view-in-github",
        "colab_type": "text"
      },
      "source": [
        "<a href=\"https://colab.research.google.com/github/IJS1016/Algorithm/blob/master/BZ_11729_for_Recursion.ipynb\" target=\"_parent\"><img src=\"https://colab.research.google.com/assets/colab-badge.svg\" alt=\"Open In Colab\"/></a>"
      ]
    },
    {
      "cell_type": "code",
      "metadata": {
        "id": "kIGHVt0fYKjr",
        "colab_type": "code",
        "colab": {
          "base_uri": "https://localhost:8080/",
          "height": 52
        },
        "outputId": "feb59521-86be-4061-a214-d05d7ce67194"
      },
      "source": [
        "# BZ_11729 : 하노이의 탑 이동 순서\n",
        "# https://www.acmicpc.net/problem/11729\n",
        "\n",
        "n = int(input())"
      ],
      "execution_count": 4,
      "outputs": [
        {
          "output_type": "stream",
          "text": [
            "3\n"
          ],
          "name": "stdout"
        },
        {
          "output_type": "execute_result",
          "data": {
            "text/plain": [
              "[[[3, 2, 1]], [], []]"
            ]
          },
          "metadata": {
            "tags": []
          },
          "execution_count": 4
        }
      ]
    },
    {
      "cell_type": "code",
      "metadata": {
        "id": "-m4gXpDAet85",
        "colab_type": "code",
        "colab": {
          "base_uri": "https://localhost:8080/",
          "height": 158
        },
        "outputId": "99513814-1700-4443-a9ec-ea6adfaf6a1e"
      },
      "source": [
        "# FOR TESTING################\n",
        "# n = 3\n",
        "#############################\n",
        "\n",
        "cnt  = 0      # 옮긴 횟수\n",
        "move = []     # 옮긴 기록 저장\n",
        "\n",
        "# from_pos  : 시작 기둥\n",
        "# to_pos    : 목표 기둥\n",
        "# aux_pos   : 보조 기둥\n",
        "# 맨 마지막 블록을 목표 기둥으로 옮기기 위해서 맨 마지막 블록을 제외한 기둥들을 보조 기둥으로 옮겨야 한다.\n",
        "# 보조 기둥으로 옮겨진 기둥들은 다시 목표 기둥으로 옮겨진다.\n",
        "\n",
        "def hanoi(n,from_pos, to_pos, aux_pos) : #{\n",
        "    global cnt, move\n",
        "\n",
        "    if n == 1 : #{\n",
        "        cnt += 1\n",
        "        move.append(f\"{from_pos} {to_pos}\") # n이 1개라면 남은 기둥을 목표 기둥으로 옮기기만 하면 된다.\n",
        "        return    \n",
        "    #}    \n",
        "\n",
        "    hanoi(n-1, from_pos, aux_pos, to_pos)    # 목표 기둥 자리에 보조 기둥을 사용해 옮겨줌\n",
        "    cnt += 1\n",
        "    move.append(f\"{from_pos} {to_pos}\")\n",
        "    hanoi(n-1, aux_pos, to_pos, from_pos)    # 보조 기둥에서 목표 기둥으로 옮겨줌\n",
        "#}\n",
        "\n",
        "hanoi(n, 1, 3, 2)\n",
        "print(cnt)\n",
        "print(\"\\n\".join(move))"
      ],
      "execution_count": 18,
      "outputs": [
        {
          "output_type": "stream",
          "text": [
            "7\n",
            "1 3\n",
            "1 2\n",
            "3 2\n",
            "1 3\n",
            "2 1\n",
            "2 3\n",
            "1 3\n"
          ],
          "name": "stdout"
        }
      ]
    },
    {
      "cell_type": "code",
      "metadata": {
        "id": "BYVJ05oOfJY6",
        "colab_type": "code",
        "colab": {}
      },
      "source": [
        ""
      ],
      "execution_count": 0,
      "outputs": []
    }
  ]
}