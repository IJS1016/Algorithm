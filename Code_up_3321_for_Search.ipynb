{
  "nbformat": 4,
  "nbformat_minor": 0,
  "metadata": {
    "colab": {
      "name": "Code up #3321 for Search.ipynb",
      "provenance": [],
      "authorship_tag": "ABX9TyO9JuSYAlrIGGGOV42mhOLF",
      "include_colab_link": true
    },
    "kernelspec": {
      "name": "python3",
      "display_name": "Python 3"
    }
  },
  "cells": [
    {
      "cell_type": "markdown",
      "metadata": {
        "id": "view-in-github",
        "colab_type": "text"
      },
      "source": [
        "<a href=\"https://colab.research.google.com/github/IJS1016/Algorithm/blob/master/Code_up_3321_for_Search.ipynb\" target=\"_parent\"><img src=\"https://colab.research.google.com/assets/colab-badge.svg\" alt=\"Open In Colab\"/></a>"
      ]
    },
    {
      "cell_type": "code",
      "metadata": {
        "id": "440hhEPcVwxe",
        "colab_type": "code",
        "colab": {}
      },
      "source": [
        "# Codeup 3321 : 최고의 피자\n",
        "# https://codeup.kr/problem.php?id=3321\n",
        "\n",
        "\n",
        "n = int(input())\n",
        "d_pri, t_pri = list(map(int, input().split(\" \")))\n",
        "d_cal = int(input())\n",
        "t_cal = []\n",
        "\n",
        "for _ in range(n) : #{\n",
        "    t_cal.append(int(input()))\n",
        "#}\n"
      ],
      "execution_count": 0,
      "outputs": []
    },
    {
      "cell_type": "code",
      "metadata": {
        "id": "8XCerDzPlYk5",
        "colab_type": "code",
        "colab": {
          "base_uri": "https://localhost:8080/",
          "height": 34
        },
        "outputId": "b1cde3ad-822d-4584-ceb5-34951fbef935"
      },
      "source": [
        "# For Testing\n",
        "'''\n",
        "n = 3\n",
        "d_pri = 12\n",
        "t_pri = 2\n",
        "d_cal = 200\n",
        "t_cal = [50, 300, 100]\n",
        "'''\n",
        "t_cal.sort(reverse = True)\n",
        "\n",
        "max_cp_n = d_cal # 분자\n",
        "max_cp_d = d_pri # 분모\n",
        "\n",
        "max_cp = (max_cp_n / max_cp_d)\n",
        "\n",
        "for t in t_cal : #{\n",
        "    cp_n = max_cp_n + t     # 분자\n",
        "    cp_d = max_cp_d + t_pri # 분모\n",
        "\n",
        "    cp = cp_n/cp_d\n",
        "\n",
        "    if max_cp < cp : #{\n",
        "         max_cp_n = cp_n\n",
        "         max_cp_d = cp_d\n",
        "         max_cp = cp\n",
        "    #}\n",
        "\n",
        "    else : break\n",
        "#}\n",
        "\n",
        "print(int(max_cp))"
      ],
      "execution_count": 9,
      "outputs": [
        {
          "output_type": "stream",
          "text": [
            "37\n"
          ],
          "name": "stdout"
        }
      ]
    }
  ]
}