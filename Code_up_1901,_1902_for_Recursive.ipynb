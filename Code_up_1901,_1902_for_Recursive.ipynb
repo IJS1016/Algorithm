{
  "nbformat": 4,
  "nbformat_minor": 0,
  "metadata": {
    "colab": {
      "name": "Code up #1901, 1902 for Recursive ",
      "provenance": [],
      "collapsed_sections": [],
      "authorship_tag": "ABX9TyO40g1wbXFU9KCsdwljIFhh",
      "include_colab_link": true
    },
    "kernelspec": {
      "name": "python3",
      "display_name": "Python 3"
    }
  },
  "cells": [
    {
      "cell_type": "markdown",
      "metadata": {
        "id": "view-in-github",
        "colab_type": "text"
      },
      "source": [
        "<a href=\"https://colab.research.google.com/github/IJS1016/Algorithm/blob/master/Code_up_1901%2C_1902_for_Recursive.ipynb\" target=\"_parent\"><img src=\"https://colab.research.google.com/assets/colab-badge.svg\" alt=\"Open In Colab\"/></a>"
      ]
    },
    {
      "cell_type": "code",
      "metadata": {
        "id": "nwYggsn1uu65",
        "colab_type": "code",
        "colab": {
          "base_uri": "https://localhost:8080/",
          "height": 215
        },
        "outputId": "9245b7b1-f09d-42a6-d9c5-875494930230"
      },
      "source": [
        "# Code up 재귀함수\n",
        "# 1901 (재귀 함수) 1부터 n까지 출력하기\n",
        "# 반복문 (for, while) 이용 금지\n",
        "\n",
        "def sub_num(n, ori):#{\n",
        "    print(num-n+1)\n",
        "    if n != 1 : #{\n",
        "        sub_num(n-1, ori)        \n",
        "    #} \n",
        "#}\n",
        "\n",
        "num = int(input())\n",
        "\n",
        "sub_num(num, num)"
      ],
      "execution_count": 3,
      "outputs": [
        {
          "output_type": "stream",
          "text": [
            "10\n",
            "1\n",
            "2\n",
            "3\n",
            "4\n",
            "5\n",
            "6\n",
            "7\n",
            "8\n",
            "9\n",
            "10\n"
          ],
          "name": "stdout"
        }
      ]
    },
    {
      "cell_type": "code",
      "metadata": {
        "id": "fQQAeQZ3was9",
        "colab_type": "code",
        "colab": {}
      },
      "source": [
        "# Code up 재귀함수\n",
        "# 1902 (재귀 함수) 1부터 n까지 역순 출력하기\n",
        "# 반복문 (for, while) 이용 금지\n",
        "\n",
        "def sub_num(n):#{\n",
        "    print(n)\n",
        "    if n != 1 : #{\n",
        "        sub_num(n-1)        \n",
        "    #} \n",
        "#}\n",
        "\n",
        "num = int(input())\n",
        "\n",
        "sub_num(num)"
      ],
      "execution_count": 0,
      "outputs": []
    }
  ]
}