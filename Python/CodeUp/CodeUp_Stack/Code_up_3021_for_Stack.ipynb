{
  "nbformat": 4,
  "nbformat_minor": 0,
  "metadata": {
    "colab": {
      "name": "Code up #3021 for Stack.ipynb",
      "provenance": [],
      "authorship_tag": "ABX9TyNis+9XebhXFiM+fmEg2zgk",
      "include_colab_link": true
    },
    "kernelspec": {
      "name": "python3",
      "display_name": "Python 3"
    }
  },
  "cells": [
    {
      "cell_type": "markdown",
      "metadata": {
        "id": "view-in-github",
        "colab_type": "text"
      },
      "source": [
        "<a href=\"https://colab.research.google.com/github/IJS1016/Algorithm/blob/master/Code_up_3021_for_Stack.ipynb\" target=\"_parent\"><img src=\"https://colab.research.google.com/assets/colab-badge.svg\" alt=\"Open In Colab\"/></a>"
      ]
    },
    {
      "cell_type": "code",
      "metadata": {
        "id": "5Z5ci1LwBrb4",
        "colab_type": "code",
        "colab": {
          "base_uri": "https://localhost:8080/",
          "height": 52
        },
        "outputId": "aeddefeb-7b8e-4592-8677-c0323d80a899"
      },
      "source": [
        "# CodeUp #3021 : 큰 수의 덧셈\n",
        "# https://codeup.kr/problem.php?id=3021\n",
        "\n",
        "# 입력\n",
        "a = list(map(int, list(input())))\n",
        "b = list(map(int, list(input())))"
      ],
      "execution_count": 40,
      "outputs": [
        {
          "output_type": "stream",
          "text": [
            "1\n",
            "1\n"
          ],
          "name": "stdout"
        }
      ]
    },
    {
      "cell_type": "code",
      "metadata": {
        "id": "orc0pqrYDJT9",
        "colab_type": "code",
        "colab": {
          "base_uri": "https://localhost:8080/",
          "height": 34
        },
        "outputId": "1e31060e-e867-4549-b016-d46526e9a76b"
      },
      "source": [
        "# FOR TESTING\n",
        "#a = 111\n",
        "#b = 9999999\n",
        "#a = list(map(int, list(str(a))))\n",
        "#b = list(map(int, list(str(b))))\n",
        "\n",
        "sum_result = []\n",
        "flag = 0         # 자리수 올림 표시\n",
        "\n",
        "# a를 항상 큰 수로 만들어주기\n",
        "# b가 더 크면 a, b를 바꿔준다.\n",
        "if len(a) < len(b) : #{\n",
        "    tmp = a\n",
        "    a = b\n",
        "    b = tmp    \n",
        "#}\n",
        "\n",
        "# b의 자리수만큼 다 더해주기\n",
        "for i in range(len(b)) : #{\n",
        "    n_sum = a.pop() + b.pop() + flag\n",
        "    \n",
        "    if n_sum >= 10 : #{\n",
        "        sum_result.append(n_sum - 10)\n",
        "        flag = 1   \n",
        "    #}\n",
        "    else : #{ \n",
        "        sum_result.append(n_sum)\n",
        "        flag = 0\n",
        "    #}\n",
        "#}\n",
        "\n",
        "# 자리수 올림이 남았을 때 계속 더해주기\n",
        "for i in range(len(a)) : #{\n",
        "    if flag == 1 : #{\n",
        "        n_sum = a.pop() + flag  \n",
        "    #}\n",
        "    else : \n",
        "      flag = 0\n",
        "      break\n",
        "\n",
        "    if n_sum >= 10 : #{\n",
        "        sum_result.append(n_sum - 10)\n",
        "        flag = 1\n",
        "    #}\n",
        "#}\n",
        "\n",
        "#print(a)\n",
        "#print(sum_result)\n",
        "\n",
        "# 마지막 자리 수 올림이 남았을 때 새로운 자리 수 생성\n",
        "if flag == 1 : sum_result.append(1)\n",
        "\n",
        "# 숫자 자리 수에 맞게 reverse\n",
        "sum_result.reverse()\n",
        "# a의 남아 있는 높은 자리수와 결과를 합하기\n",
        "a.extend(sum_result)\n",
        "\n",
        "print(\"\".join(list(map(str,a))))"
      ],
      "execution_count": 39,
      "outputs": [
        {
          "output_type": "stream",
          "text": [
            "10000110\n"
          ],
          "name": "stdout"
        }
      ]
    }
  ]
}