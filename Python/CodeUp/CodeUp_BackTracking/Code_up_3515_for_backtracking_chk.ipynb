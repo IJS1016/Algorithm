{
  "nbformat": 4,
  "nbformat_minor": 0,
  "metadata": {
    "colab": {
      "name": "Code up #3515 for backtracking_chk.ipynb",
      "provenance": [],
      "collapsed_sections": [],
      "authorship_tag": "ABX9TyPopToN9fb4Y+AR/z7LtuHl",
      "include_colab_link": true
    },
    "kernelspec": {
      "name": "python3",
      "display_name": "Python 3"
    }
  },
  "cells": [
    {
      "cell_type": "markdown",
      "metadata": {
        "id": "view-in-github",
        "colab_type": "text"
      },
      "source": [
        "<a href=\"https://colab.research.google.com/github/IJS1016/Algorithm/blob/master/Code_up_3515_for_backtracking_chk.ipynb\" target=\"_parent\"><img src=\"https://colab.research.google.com/assets/colab-badge.svg\" alt=\"Open In Colab\"/></a>"
      ]
    },
    {
      "cell_type": "code",
      "metadata": {
        "id": "Gwi1JHg7v_CJ",
        "colab_type": "code",
        "colab": {
          "base_uri": "https://localhost:8080/",
          "height": 70
        },
        "outputId": "253e200e-224f-4a6f-b3e1-14b1541da3df"
      },
      "source": [
        "# CodeUp 3515 : 사탕 줍기2\n",
        "# 1 2의 case에서 colab은 답이 나오는데 Codeup에서 출력결과가 나오지 않는다.\n",
        "# 후에 확인\n",
        "import copy\n",
        "candy_grating = []\n",
        "\n",
        "n = int(input())\n",
        "for i in range(n) : #{\n",
        "    candy_grating.append(list(map(int, (input()).split(\" \"))))\n",
        "#}\n",
        "print(candy_grating)"
      ],
      "execution_count": 24,
      "outputs": [
        {
          "output_type": "stream",
          "text": [
            "1\n",
            "2\n",
            "[[2]]\n"
          ],
          "name": "stdout"
        }
      ]
    },
    {
      "cell_type": "code",
      "metadata": {
        "id": "3Ey1Ui6UxFQF",
        "colab_type": "code",
        "colab": {
          "base_uri": "https://localhost:8080/",
          "height": 52
        },
        "outputId": "2fc9bd99-66cb-4069-d4c6-4d10c1e50b9f"
      },
      "source": [
        "# For testing\n",
        "# n = 3\n",
        "# candy_grating = [[3, 1, 4],\n",
        "#                  [2, 5, 4],\n",
        "#                  [1, 4, 1]]\n",
        "\n",
        "history   = [0]*n\n",
        "max_value = 0 \n",
        "\n",
        "def check_num_of_candy(candy_grating, history, num_candy) : #{\n",
        "    global max_value\n",
        "\n",
        "    if len(candy_grating) == 1 : #{\n",
        "        num_candy += candy_grating[0][history.index(0)]\n",
        "\n",
        "        if max_value < num_candy : #{\n",
        "            max_value = num_candy\n",
        "        #}\n",
        "        return\n",
        "    #}\n",
        "\n",
        "    else : #{\n",
        "        for i, h in enumerate(history) : #{\n",
        "            if h == 0 : #{\n",
        "                new_history = copy.deepcopy(history)\n",
        "                new_history[i] = n - (len(candy_grating) - 1)\n",
        "                check_num_of_candy(candy_grating[1:], new_history, num_candy+candy_grating[0][i])\n",
        "            #}\n",
        "        #}  \n",
        "    #}\n",
        "#}\n",
        "\n",
        "check_num_of_candy(candy_grating, history, 0)\n",
        "print(max_value)"
      ],
      "execution_count": 26,
      "outputs": [
        {
          "output_type": "stream",
          "text": [
            "2\n",
            "2\n"
          ],
          "name": "stdout"
        }
      ]
    }
  ]
}