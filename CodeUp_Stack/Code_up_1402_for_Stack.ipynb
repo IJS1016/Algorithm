{
  "nbformat": 4,
  "nbformat_minor": 0,
  "metadata": {
    "colab": {
      "name": "Code up #1402 for Stack.ipynb",
      "provenance": [],
      "collapsed_sections": [],
      "authorship_tag": "ABX9TyPeFTaMfCGuoqn6E8GlmT1s",
      "include_colab_link": true
    },
    "kernelspec": {
      "name": "python3",
      "display_name": "Python 3"
    }
  },
  "cells": [
    {
      "cell_type": "markdown",
      "metadata": {
        "id": "view-in-github",
        "colab_type": "text"
      },
      "source": [
        "<a href=\"https://colab.research.google.com/github/IJS1016/Algorithm/blob/master/Code_up_1402_for_Stack.ipynb\" target=\"_parent\"><img src=\"https://colab.research.google.com/assets/colab-badge.svg\" alt=\"Open In Colab\"/></a>"
      ]
    },
    {
      "cell_type": "code",
      "metadata": {
        "id": "Gb2OCBz7yJ_d",
        "colab_type": "code",
        "colab": {
          "base_uri": "https://localhost:8080/",
          "height": 70
        },
        "outputId": "bbf3221f-79fc-4415-dac3-8119d3cc3a31"
      },
      "source": [
        "# Code up #1402 : 거꾸로 출력하기 3\n",
        "# https://codeup.kr/problem.php?id=1402\n",
        "\n",
        "n = int(input())\n",
        "result = \"\"\n",
        "\n",
        "data = input().split(\" \")\n",
        "\n",
        "for i in range(n, 0, -1) : #{\n",
        "    result = result + data[i-1] + \" \"\n",
        "#}\n",
        "\n",
        "print(result[:-1])"
      ],
      "execution_count": 6,
      "outputs": [
        {
          "output_type": "stream",
          "text": [
            "5\n",
            "1 3 5 6 8\n",
            "8 6 5 3 1\n"
          ],
          "name": "stdout"
        }
      ]
    }
  ]
}