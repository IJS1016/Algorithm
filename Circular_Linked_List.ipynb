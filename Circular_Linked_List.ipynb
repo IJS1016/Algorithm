{
  "nbformat": 4,
  "nbformat_minor": 0,
  "metadata": {
    "colab": {
      "name": "Circular_Linked_List.ipynb",
      "provenance": [],
      "collapsed_sections": [],
      "authorship_tag": "ABX9TyNs/mEiQPKh/ICelAFY1Ooq",
      "include_colab_link": true
    },
    "kernelspec": {
      "name": "python3",
      "display_name": "Python 3"
    }
  },
  "cells": [
    {
      "cell_type": "markdown",
      "metadata": {
        "id": "view-in-github",
        "colab_type": "text"
      },
      "source": [
        "<a href=\"https://colab.research.google.com/github/IJS1016/Algorithm/blob/master/Circular_Linked_List.ipynb\" target=\"_parent\"><img src=\"https://colab.research.google.com/assets/colab-badge.svg\" alt=\"Open In Colab\"/></a>"
      ]
    },
    {
      "cell_type": "code",
      "metadata": {
        "id": "HDEU3RbDFhKk",
        "colab_type": "code",
        "colab": {}
      },
      "source": [
        "class CList : \n",
        "    class Node :\n",
        "        def __init__(self, item, link) :\n",
        "            self.item = item\n",
        "            self.next = link\n",
        "\n",
        "    def __init__(self) : \n",
        "        self.last = None\n",
        "        self.size = 0\n",
        "      \n",
        "    def no_items(self) : return self.size\n",
        "    def is_empty(self) : return self.size == 0\n",
        "\n",
        "    def insert(self, item) :\n",
        "        n = self.Node(item, None)\n",
        "        if self.is_empty() :\n",
        "            self.last = n\n",
        "            n.next    = n\n",
        "        else :\n",
        "            n.next         = self.last.next\n",
        "            self.last.next = n\n",
        "\n",
        "        self.size += 1\n",
        "\n",
        "    def first(self) : \n",
        "        if self.is_empty() :\n",
        "            raise EmptyError('Underflow')\n",
        "        f = self.last.next\n",
        "        return f.item\n",
        "    \n",
        "    def delete(self) : \n",
        "        x = self.last.next\n",
        "\n",
        "        if self.is_empty() : \n",
        "            raise EmptyError('Underflow')\n",
        "    \n",
        "        elif self.size == 1 : \n",
        "            self.last = None\n",
        "        else :\n",
        "            self.last.next = x.next\n",
        "\n",
        "        self.size -= 1\n",
        "        return x.item\n",
        "            \n",
        "    def print_list(self) :\n",
        "        if self.is_empty() : \n",
        "            print(\"list is empty\")\n",
        "        else : \n",
        "            n = self.last.next\n",
        "            while n != self.last : \n",
        "                print(n.item + \"->\", end = \"\")\n",
        "                n = n.next\n",
        "            print(n.item)\n",
        "\n",
        "class EmptyError(Exception) : \n",
        "    pass"
      ],
      "execution_count": 36,
      "outputs": []
    },
    {
      "cell_type": "code",
      "metadata": {
        "id": "ihhA7fVMI09_",
        "colab_type": "code",
        "colab": {
          "base_uri": "https://localhost:8080/",
          "height": 105
        },
        "outputId": "9b75cff3-fcb3-49ab-99c5-22b10e5a2764"
      },
      "source": [
        "s = CList()\n",
        "s.insert('pear')\n",
        "s.insert('cherry')\n",
        "s.insert('orange')\n",
        "s.insert('apple')\n",
        "s.print_list()\n",
        "s.no_items()\n",
        "s.first()\n",
        "s.delete()\n",
        "print(\"첫노드 삭제 후 : \", end = \"\")\n",
        "s.print_list()\n",
        "s.delete()\n",
        "print(\"첫노드 삭제 후 : \", end = \"\")\n",
        "s.print_list()\n",
        "s.delete()\n",
        "print(\"첫노드 삭제 후 : \", end = \"\")\n",
        "s.print_list()\n",
        "s.delete()\n",
        "print(\"첫노드 삭제 후 : \", end = \"\")\n",
        "s.print_list()"
      ],
      "execution_count": 42,
      "outputs": [
        {
          "output_type": "stream",
          "text": [
            "apple->orange->cherry->pear\n",
            "첫노드 삭제 후 : orange->cherry->pear\n",
            "첫노드 삭제 후 : cherry->pear\n",
            "첫노드 삭제 후 : pear\n",
            "첫노드 삭제 후 : list is empty\n"
          ],
          "name": "stdout"
        }
      ]
    }
  ]
}