{
  "nbformat": 4,
  "nbformat_minor": 0,
  "metadata": {
    "colab": {
      "name": "Code up #1904 for Recursive ",
      "provenance": [],
      "collapsed_sections": [],
      "authorship_tag": "ABX9TyOX7hl7Weo9Gv0mc5W6Yw+B",
      "include_colab_link": true
    },
    "kernelspec": {
      "name": "python3",
      "display_name": "Python 3"
    }
  },
  "cells": [
    {
      "cell_type": "markdown",
      "metadata": {
        "id": "view-in-github",
        "colab_type": "text"
      },
      "source": [
        "<a href=\"https://colab.research.google.com/github/IJS1016/Algorithm/blob/master/Code_up_1904_for_Recursive.ipynb\" target=\"_parent\"><img src=\"https://colab.research.google.com/assets/colab-badge.svg\" alt=\"Open In Colab\"/></a>"
      ]
    },
    {
      "cell_type": "code",
      "metadata": {
        "id": "1OGyV-6OqSXW",
        "colab_type": "code",
        "colab": {
          "base_uri": "https://localhost:8080/",
          "height": 53
        },
        "outputId": "c20793ca-846d-43eb-ec2b-43696df8ba64"
      },
      "source": [
        "# Code up 재귀함수\n",
        "# 1904 (재귀함수) 두 수 사이의 홀수 출력하기\n",
        "# 반복문 (for, while) 이용 금지\n",
        "\n",
        "def print_odd(a, b, result) : #{\n",
        "    if a % 2 == 1 : result = result + str(a) + \" \"\n",
        "    if a != b     : print_odd(a+1, b, result)\n",
        "    elif a == b   : print(result[:-1])\n",
        "#}\n",
        "\n",
        "a, b = list(map(int, input().split(\" \")))\n",
        "print_odd(a, b, \"\")"
      ],
      "execution_count": 6,
      "outputs": [
        {
          "output_type": "stream",
          "text": [
            "2 7\n",
            "3 5 7\n"
          ],
          "name": "stdout"
        }
      ]
    }
  ]
}