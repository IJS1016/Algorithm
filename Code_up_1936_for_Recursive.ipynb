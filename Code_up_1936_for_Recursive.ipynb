{
  "nbformat": 4,
  "nbformat_minor": 0,
  "metadata": {
    "colab": {
      "name": "Code up #1936 for Recursive.ipynb",
      "provenance": [],
      "authorship_tag": "ABX9TyPHQPI4DeWdXz9Wy8Wx+rN/",
      "include_colab_link": true
    },
    "kernelspec": {
      "name": "python3",
      "display_name": "Python 3"
    }
  },
  "cells": [
    {
      "cell_type": "markdown",
      "metadata": {
        "id": "view-in-github",
        "colab_type": "text"
      },
      "source": [
        "<a href=\"https://colab.research.google.com/github/IJS1016/Algorithm/blob/master/Code_up_1936_for_Recursive.ipynb\" target=\"_parent\"><img src=\"https://colab.research.google.com/assets/colab-badge.svg\" alt=\"Open In Colab\"/></a>"
      ]
    },
    {
      "cell_type": "code",
      "metadata": {
        "id": "10kNTRR6TXcv",
        "colab_type": "code",
        "colab": {
          "base_uri": "https://localhost:8080/",
          "height": 34
        },
        "outputId": "6f77b2d9-d954-4f36-a87b-c98d1469b5ca"
      },
      "source": [
        "# Code up #1936 : 두 노드간의 거리\n",
        "# https://codeup.kr/problem.php?id=1936\n",
        "\n",
        "a, b = input().split(\" \")"
      ],
      "execution_count": 2,
      "outputs": [
        {
          "output_type": "stream",
          "text": [
            "3 4\n"
          ],
          "name": "stdout"
        }
      ]
    },
    {
      "cell_type": "code",
      "metadata": {
        "id": "geDcPUsjTuqp",
        "colab_type": "code",
        "colab": {
          "base_uri": "https://localhost:8080/",
          "height": 34
        },
        "outputId": "11448b20-3923-492e-f2c6-4a5b04d92f58"
      },
      "source": [
        "def find_node(a, b) : #{\n",
        "\n",
        "    if a == b : return 0\n",
        "    elif a > b :\n",
        "       return find_node(int(a/2), b) + 1\n",
        "    else :\n",
        "       return find_node(a, int(b/2)) + 1\n",
        "#}\n",
        "\n",
        "print(find_node(int(a),int(b)))"
      ],
      "execution_count": 11,
      "outputs": [
        {
          "output_type": "stream",
          "text": [
            "3\n"
          ],
          "name": "stdout"
        }
      ]
    }
  ]
}