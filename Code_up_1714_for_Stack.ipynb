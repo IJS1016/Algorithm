{
  "nbformat": 4,
  "nbformat_minor": 0,
  "metadata": {
    "colab": {
      "name": "Code up #1714 for Stack.ipynb",
      "provenance": [],
      "authorship_tag": "ABX9TyOQ+rGosX+PncSEuPgM2ZLP",
      "include_colab_link": true
    },
    "kernelspec": {
      "name": "python3",
      "display_name": "Python 3"
    }
  },
  "cells": [
    {
      "cell_type": "markdown",
      "metadata": {
        "id": "view-in-github",
        "colab_type": "text"
      },
      "source": [
        "<a href=\"https://colab.research.google.com/github/IJS1016/Algorithm/blob/master/Code_up_1714_for_Stack.ipynb\" target=\"_parent\"><img src=\"https://colab.research.google.com/assets/colab-badge.svg\" alt=\"Open In Colab\"/></a>"
      ]
    },
    {
      "cell_type": "code",
      "metadata": {
        "id": "gxISdleMwAQX",
        "colab_type": "code",
        "colab": {
          "base_uri": "https://localhost:8080/",
          "height": 52
        },
        "outputId": "d6c94c86-c90c-49f8-b24a-dc3f72062e5c"
      },
      "source": [
        "# Code up #1714 : 숫자 거꾸로 출력하기\n",
        "# https://codeup.kr/problem.php?id=1714\n",
        "\n",
        "n = input()\n",
        "n_inverse = \"\"\n",
        "for i in range(len(n)) : #{\n",
        "    n_inverse += n[len(n)-i-1]\n",
        "#}\n",
        "\n",
        "print(n_inverse)"
      ],
      "execution_count": null,
      "outputs": [
        {
          "output_type": "stream",
          "text": [
            "2571\n",
            "1752\n"
          ],
          "name": "stdout"
        }
      ]
    }
  ]
}