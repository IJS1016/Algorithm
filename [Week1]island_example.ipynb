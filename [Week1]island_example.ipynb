{
  "nbformat": 4,
  "nbformat_minor": 0,
  "metadata": {
    "colab": {
      "name": "[Week1]island_example.ipynb",
      "provenance": [],
      "collapsed_sections": [],
      "authorship_tag": "ABX9TyPS51+L502nF6tr/jRlOOBj",
      "include_colab_link": true
    },
    "kernelspec": {
      "name": "python3",
      "display_name": "Python 3"
    }
  },
  "cells": [
    {
      "cell_type": "markdown",
      "metadata": {
        "id": "view-in-github",
        "colab_type": "text"
      },
      "source": [
        "<a href=\"https://colab.research.google.com/github/IJS1016/Algorithm/blob/master/%5BWeek1%5Disland_example.ipynb\" target=\"_parent\"><img src=\"https://colab.research.google.com/assets/colab-badge.svg\" alt=\"Open In Colab\"/></a>"
      ]
    },
    {
      "cell_type": "code",
      "metadata": {
        "id": "HPw2X7DPMkJr",
        "colab_type": "code",
        "colab": {
          "base_uri": "https://localhost:8080/",
          "height": 140
        },
        "outputId": "1c3d9997-b6a2-41de-9067-e895b8b4c999"
      },
      "source": [
        "class Island() : #{\n",
        "    def __init__(self, name, left=None, right=None) : #{\n",
        "        self.name = name\n",
        "        self.left = left\n",
        "        self.right= right\n",
        "    #}\n",
        "#}\n",
        "\n",
        "def map() : #{\n",
        "  i1 = Island('H')\n",
        "  i2 = Island('F')\n",
        "  i3 = Island('U')\n",
        "  i4 = Island('N')\n",
        "  i5 = Island('E')\n",
        "  i6 = Island('A')\n",
        "  i7 = Island('T')\n",
        "  i8 = Island('S')\n",
        "  i9 = Island('Z')\n",
        "  i10= Island('K')\n",
        "  i11= Island('Y')\n",
        "\n",
        "  i1.left = i2\n",
        "  i2.left = i3\n",
        "  i3.left = i4\n",
        "  i2.right= i5\n",
        "  i5.left = i6\n",
        "  i6.right= i7\n",
        "  \n",
        "  i1.right= i8\n",
        "  i8.left = i9\n",
        "  i8.right= i10\n",
        "  i10.right=i11\n",
        "\n",
        "  return i1\n",
        "#}\n",
        "\n",
        "# 전위순회\n",
        "def a_course(n) : #{\n",
        "    if n != None : #{\n",
        "        print(n.name,'->', end=\"\")  \n",
        "        a_course(n.left)\n",
        "        a_course(n.right)  \n",
        "    #}   \n",
        "#}\n",
        "\n",
        "# 중위순회\n",
        "def b_course(n) :#{\n",
        "    if n != None : #{\n",
        "      b_course(n.left)\n",
        "      print(n.name, '->', end=\"\")\n",
        "      b_course(n.right)\n",
        "    #}\n",
        "#}\n",
        "\n",
        "# 후위순회\n",
        "def c_course(n) : #{\n",
        "    if n != None : #{\n",
        "        c_course(n.left)\n",
        "        c_course(n.right)\n",
        "        print(n.name, '->', end=\"\")    \n",
        "    #}    \n",
        "#}\n",
        "\n",
        "start = map()\n",
        "print(\"A course\")\n",
        "a_course(start)\n",
        "print(\"\\nB course\")\n",
        "b_course(start)\n",
        "print(\"\\nC course\")\n",
        "c_course(start)"
      ],
      "execution_count": 7,
      "outputs": [
        {
          "output_type": "stream",
          "text": [
            "A course\n",
            "H ->F ->U ->N ->E ->A ->T ->S ->Z ->K ->Y ->\n",
            "B course\n",
            "F ->U ->N ->E ->A ->T ->H ->S ->Z ->K ->Y ->\n",
            "N ->U ->F ->A ->T ->E ->H ->Z ->S ->K ->Y ->\n",
            "C course\n",
            "N ->U ->T ->A ->E ->F ->Z ->Y ->K ->S ->H ->"
          ],
          "name": "stdout"
        }
      ]
    }
  ]
}