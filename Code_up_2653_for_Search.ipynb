{
  "nbformat": 4,
  "nbformat_minor": 0,
  "metadata": {
    "colab": {
      "name": "Code up #2653 for Search.ipynb",
      "provenance": [],
      "collapsed_sections": [],
      "authorship_tag": "ABX9TyOZiFYOtehdFYcmWgyOt/A7",
      "include_colab_link": true
    },
    "kernelspec": {
      "name": "python3",
      "display_name": "Python 3"
    }
  },
  "cells": [
    {
      "cell_type": "markdown",
      "metadata": {
        "id": "view-in-github",
        "colab_type": "text"
      },
      "source": [
        "<a href=\"https://colab.research.google.com/github/IJS1016/Algorithm/blob/master/Code_up_2653_for_Search.ipynb\" target=\"_parent\"><img src=\"https://colab.research.google.com/assets/colab-badge.svg\" alt=\"Open In Colab\"/></a>"
      ]
    },
    {
      "cell_type": "code",
      "metadata": {
        "id": "Jb8dfLhchJ0K",
        "colab_type": "code",
        "colab": {}
      },
      "source": [
        "# 2653 : 규칙에 맞는 이진수 만들기 (Small)\n",
        "n = int(input())"
      ],
      "execution_count": null,
      "outputs": []
    },
    {
      "cell_type": "code",
      "metadata": {
        "id": "WBukjXRChXdg",
        "colab_type": "code",
        "colab": {
          "base_uri": "https://localhost:8080/",
          "height": 34
        },
        "outputId": "490b3e29-4d27-4856-b605-63c5338d1ac0"
      },
      "source": [
        "\n",
        "def find_all_kind_of_binal(cnt, last_nums) : #{\n",
        "    global total_case\n",
        "\n",
        "    if cnt == n : #{\n",
        "        return print(len(last_nums))\n",
        "    #}\n",
        "    \n",
        "    new_last_num = []\n",
        "\n",
        "    for last_num in last_nums : #{\n",
        "        if last_num == '0' : #{\n",
        "            new_last_num.append(\"1\")\n",
        "        #}\n",
        "        else : #{\n",
        "            new_last_num.append(\"0\")\n",
        "            new_last_num.append(\"1\") \n",
        "        #}      \n",
        "    #}    \n",
        "    find_all_kind_of_binal(cnt+1, new_last_num)\n",
        "#}\n",
        "\n",
        "find_all_kind_of_binal(1, ['0', '1'])"
      ],
      "execution_count": 35,
      "outputs": [
        {
          "output_type": "stream",
          "text": [
            "5\n"
          ],
          "name": "stdout"
        }
      ]
    }
  ]
}