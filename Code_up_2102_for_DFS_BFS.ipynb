{
  "nbformat": 4,
  "nbformat_minor": 0,
  "metadata": {
    "colab": {
      "name": "Code up #2102 for DFS/BFS.ipynb",
      "provenance": [],
      "authorship_tag": "ABX9TyPFlR4ogNvd7QZwYwgyerwe",
      "include_colab_link": true
    },
    "kernelspec": {
      "name": "python3",
      "display_name": "Python 3"
    }
  },
  "cells": [
    {
      "cell_type": "markdown",
      "metadata": {
        "id": "view-in-github",
        "colab_type": "text"
      },
      "source": [
        "<a href=\"https://colab.research.google.com/github/IJS1016/Algorithm/blob/master/Code_up_2102_for_DFS_BFS.ipynb\" target=\"_parent\"><img src=\"https://colab.research.google.com/assets/colab-badge.svg\" alt=\"Open In Colab\"/></a>"
      ]
    },
    {
      "cell_type": "code",
      "metadata": {
        "id": "n36Kf8S9udsN",
        "colab_type": "code",
        "colab": {
          "base_uri": "https://localhost:8080/",
          "height": 35
        },
        "outputId": "56d35f70-52bd-4629-f298-559cb9e8ea10"
      },
      "source": [
        "# 2102 : 배수\n",
        "# https://codeup.kr/problem.php?id=2102\n",
        "\n",
        "n = int(input())"
      ],
      "execution_count": 66,
      "outputs": [
        {
          "output_type": "stream",
          "text": [
            "10\n"
          ],
          "name": "stdout"
        }
      ]
    },
    {
      "cell_type": "code",
      "metadata": {
        "id": "bGyL9PUQwzSQ",
        "colab_type": "code",
        "colab": {
          "base_uri": "https://localhost:8080/",
          "height": 35
        },
        "outputId": "35a29280-9b70-48ff-f4de-edc442c4259e"
      },
      "source": [
        "# 내 방법\n",
        "# 2진수 덧셈을 이용해서 0,1으로 구성된 값을 n과 나눠지는 것을 확인\n",
        "def find_multiple_js(n) : #{\n",
        "    b_num = 0b1\n",
        "    d_num = int(format(b_num, \"b\"), 10)\n",
        "\n",
        "    while(1): #{\n",
        "        if d_num % n == 0 : #{\n",
        "            return d_num  \n",
        "        b_num += 1\n",
        "        d_num = int(format(b_num, \"b\"), 10)\n",
        "\n",
        "        if d_num >= 100000000000000000000 : return 0\n",
        "        #}\n",
        "    #}\n",
        "#}\n",
        "\n",
        "\n",
        "print(find_multiple_js(n))"
      ],
      "execution_count": 69,
      "outputs": [
        {
          "output_type": "stream",
          "text": [
            "10\n"
          ],
          "name": "stdout"
        }
      ]
    },
    {
      "cell_type": "code",
      "metadata": {
        "id": "SPq1Z8f65ahW",
        "colab_type": "code",
        "colab": {
          "base_uri": "https://localhost:8080/",
          "height": 35
        },
        "outputId": "cb52fdb8-5063-4256-cb72-f84139801140"
      },
      "source": [
        "# 유선언니 방법\n",
        "# n의 값을 계속 더해 더한 값이 0,1로 구성되어 있는 지 확인\n",
        "# 시간 초과 replace 말고 다른 방법?\n",
        "def find_multiple_ys(n) : #{\n",
        "    num = 0\n",
        "    while(1): #{\n",
        "        num += n\n",
        "        str_num = str(num)\n",
        "        str_num = str_num.replace(\"0\", \"\")\n",
        "        str_num = str_num.replace(\"1\", \"\")\n",
        "        \n",
        "        if num >= 100000000000000000000 : return 0\n",
        "        if len(str_num) == 0 : return num\n",
        "        #}\n",
        "    #}\n",
        "#}\n",
        "\n",
        "\n",
        "print(find_multiple_ys(n))"
      ],
      "execution_count": 73,
      "outputs": [
        {
          "output_type": "stream",
          "text": [
            "10\n"
          ],
          "name": "stdout"
        }
      ]
    }
  ]
}