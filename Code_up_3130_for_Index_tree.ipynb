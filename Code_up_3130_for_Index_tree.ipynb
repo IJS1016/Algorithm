{
  "nbformat": 4,
  "nbformat_minor": 0,
  "metadata": {
    "colab": {
      "name": "Code up #3130 for Index_tree.ipynb",
      "provenance": [],
      "collapsed_sections": [],
      "authorship_tag": "ABX9TyMLR3g1Qa6K0rGunhx8miG8",
      "include_colab_link": true
    },
    "kernelspec": {
      "name": "python3",
      "display_name": "Python 3"
    }
  },
  "cells": [
    {
      "cell_type": "markdown",
      "metadata": {
        "id": "view-in-github",
        "colab_type": "text"
      },
      "source": [
        "<a href=\"https://colab.research.google.com/github/IJS1016/Algorithm/blob/master/Code_up_3130_for_Index_tree.ipynb\" target=\"_parent\"><img src=\"https://colab.research.google.com/assets/colab-badge.svg\" alt=\"Open In Colab\"/></a>"
      ]
    },
    {
      "cell_type": "code",
      "metadata": {
        "id": "Nw_nccS6LeI6",
        "colab_type": "code",
        "colab": {
          "base_uri": "https://localhost:8080/",
          "height": 105
        },
        "outputId": "2b0a0795-c0cf-4ab9-9ce1-3ab523c1d4d5"
      },
      "source": [
        "# CodeUp : 3130 소들의 헤어스타일\n",
        "# https://codeup.kr/problem.php?id=3130\n",
        "\n",
        "n = int(input())\n",
        "h = []\n",
        "\n",
        "for i in range(n) : #{\n",
        "    h.append(int(input()))\n",
        "#}"
      ],
      "execution_count": 8,
      "outputs": [
        {
          "output_type": "stream",
          "text": [
            "4\n",
            "5\n",
            "9\n",
            "1\n",
            "0\n"
          ],
          "name": "stdout"
        }
      ]
    },
    {
      "cell_type": "code",
      "metadata": {
        "id": "hAEpdyiINTNl",
        "colab_type": "code",
        "colab": {
          "base_uri": "https://localhost:8080/",
          "height": 105
        },
        "outputId": "dfe3442d-7885-4f8e-98dd-08242fd539a7"
      },
      "source": [
        "# 이중 for문 -> 시간초과\n",
        "cnt = 0\n",
        "\n",
        "for idx, c1 in enumerate(h) : #{\n",
        "    for c2 in h[idx+1:] : #{\n",
        "        #print(c1, c2)\n",
        "        if c1 <= c2 : #{\n",
        "            break\n",
        "        #}       \n",
        "        else : cnt += 1 \n",
        "    #}    \n",
        "#}\n",
        "\n",
        "print(cnt)"
      ],
      "execution_count": 11,
      "outputs": [
        {
          "output_type": "stream",
          "text": [
            "5 9\n",
            "9 1\n",
            "9 0\n",
            "1 0\n",
            "3\n"
          ],
          "name": "stdout"
        }
      ]
    },
    {
      "cell_type": "code",
      "metadata": {
        "id": "vhWLDsp6PeVx",
        "colab_type": "code",
        "colab": {
          "base_uri": "https://localhost:8080/",
          "height": 140
        },
        "outputId": "cb09e1ef-3c30-451b-8018-c2a494d701ee"
      },
      "source": [
        "# Stack 사용\n",
        "# 자신이 볼 수 있는 소가 몇 마리인지 파악하는 것이 아니라 자신을 볼 수 있는 소가 몇 마리인지 파악하는 것\n",
        "class Stack: \n",
        "    def __init__(self):\n",
        "        self.len  = 0\n",
        "        self.list = []\n",
        "\n",
        "    def push(self, num):\n",
        "        self.list.append(num)\n",
        "        self.len += 1\n",
        "\n",
        "    def pop(self):\n",
        "        if self.size() == 0:\n",
        "            return -1\n",
        "        pop_result = self.list[self.len-1]\n",
        "        del self.list[self.len - 1]\n",
        "        self.len -= 1\n",
        "\n",
        "        return pop_result\n",
        "\n",
        "    def size(self):\n",
        "        return self.len\n",
        "    \n",
        "    def empty(self):\n",
        "        return 1 if self.len == 0 else 0\n",
        "\n",
        "    def top(self):\n",
        "        return self.list[-1] if self.size() != 0 else -1\n",
        "\n",
        "# test\n",
        "#c_set = [10,3,7,4,12,2]\n",
        "#n = 6\n",
        "\n",
        "n   = int(input())\n",
        "stack = Stack()\n",
        "cnt   = 0\n",
        "\n",
        "for i in range(n) : #{\n",
        "    #c = c_set[i]\n",
        "    #print(stack.list, c)\n",
        "    c = int(input())\n",
        "\n",
        "    if stack.empty() :\n",
        "        stack.push(c)\n",
        "\n",
        "    elif stack.top() <= c :\n",
        "        stack.pop()\n",
        "        while stack.top() <= c and stack.top() != -1 :\n",
        "            stack.pop()\n",
        "        stack.push(c)        \n",
        "  \n",
        "    else : stack.push(c)\n",
        "\n",
        "    cnt += stack.size() - 1\n",
        "#}\n",
        "print(cnt)\n"
      ],
      "execution_count": 23,
      "outputs": [
        {
          "output_type": "stream",
          "text": [
            "[] 10\n",
            "[10] 3\n",
            "[10, 3] 7\n",
            "[10, 7] 4\n",
            "[10, 7, 4] 12\n",
            "[12] 2\n",
            "5\n"
          ],
          "name": "stdout"
        }
      ]
    },
    {
      "cell_type": "code",
      "metadata": {
        "id": "kCVpcekbeXR1",
        "colab_type": "code",
        "colab": {
          "base_uri": "https://localhost:8080/",
          "height": 34
        },
        "outputId": "bae97fd2-8d0f-4f31-80ad-6a304512548b"
      },
      "source": [
        "new_stack = Stack()\n",
        "new_stack.push(12)\n",
        "new_stack.push(23)\n",
        "new_stack.pop()\n",
        "\n",
        "print(new_stack.list)"
      ],
      "execution_count": 6,
      "outputs": [
        {
          "output_type": "stream",
          "text": [
            "[12]\n"
          ],
          "name": "stdout"
        }
      ]
    }
  ]
}