{
  "nbformat": 4,
  "nbformat_minor": 0,
  "metadata": {
    "colab": {
      "name": "Code up #3004 Structure Practice",
      "provenance": [],
      "authorship_tag": "ABX9TyMiVcJJaigw3XyT1ALrQ5hB",
      "include_colab_link": true
    },
    "kernelspec": {
      "name": "python3",
      "display_name": "Python 3"
    }
  },
  "cells": [
    {
      "cell_type": "markdown",
      "metadata": {
        "id": "view-in-github",
        "colab_type": "text"
      },
      "source": [
        "<a href=\"https://colab.research.google.com/github/IJS1016/Algorithm/blob/master/Code_up_3004_Structure_Practice.ipynb\" target=\"_parent\"><img src=\"https://colab.research.google.com/assets/colab-badge.svg\" alt=\"Open In Colab\"/></a>"
      ]
    },
    {
      "cell_type": "code",
      "metadata": {
        "id": "BL_IlzonpX_v",
        "colab_type": "code",
        "colab": {
          "base_uri": "https://localhost:8080/",
          "height": 71
        },
        "outputId": "43af27e0-b23c-434d-9c08-299a6e81951d"
      },
      "source": [
        "# Code up 구조체\n",
        "# 3004 데이터 재정렬\n",
        "\n",
        "result = []\n",
        "\n",
        "n = input()\n",
        "datas = list(map(int, input().split(\" \")))\n",
        "\n",
        "sorted_datas = sorted(datas)\n",
        "\n",
        "for data in datas : #{\n",
        "    result.append(sorted_datas.index(data))\n",
        "#}\n",
        "\n",
        "print(\" \".join(str(i) for i in result))"
      ],
      "execution_count": 1,
      "outputs": [
        {
          "output_type": "stream",
          "text": [
            "5\n",
            "50 23 54 24 123\n",
            "2 0 3 1 4\n"
          ],
          "name": "stdout"
        }
      ]
    }
  ]
}