{
  "nbformat": 4,
  "nbformat_minor": 0,
  "metadata": {
    "colab": {
      "name": "Code up #2651 for backtracking.ipynb",
      "provenance": [],
      "authorship_tag": "ABX9TyODQSeNpt9Ots9YAqlxVumY",
      "include_colab_link": true
    },
    "kernelspec": {
      "name": "python3",
      "display_name": "Python 3"
    }
  },
  "cells": [
    {
      "cell_type": "markdown",
      "metadata": {
        "id": "view-in-github",
        "colab_type": "text"
      },
      "source": [
        "<a href=\"https://colab.research.google.com/github/IJS1016/Algorithm/blob/master/Code_up_2651_for_backtracking.ipynb\" target=\"_parent\"><img src=\"https://colab.research.google.com/assets/colab-badge.svg\" alt=\"Open In Colab\"/></a>"
      ]
    },
    {
      "cell_type": "code",
      "metadata": {
        "id": "cvUI1IMoTV8c",
        "colab_type": "code",
        "colab": {
          "base_uri": "https://localhost:8080/",
          "height": 34
        },
        "outputId": "b9a6d8ec-bcec-4dbd-ad68-8ff90b8ada93"
      },
      "source": [
        "# CodeUp 2651 : 극장 좌석 배치 1\n",
        "# https://codeup.kr/problem.php?id=2651\n",
        "\n",
        "k, n = list(map(int,input().split(\" \")))"
      ],
      "execution_count": 1,
      "outputs": [
        {
          "output_type": "stream",
          "text": [
            "4 2\n"
          ],
          "name": "stdout"
        }
      ]
    },
    {
      "cell_type": "code",
      "metadata": {
        "id": "CINBERkgTjoE",
        "colab_type": "code",
        "colab": {
          "base_uri": "https://localhost:8080/",
          "height": 34
        },
        "outputId": "33c559a9-8ac0-4f1a-dec6-5c34b88f47cd"
      },
      "source": [
        "def factorial(start, end) : #{\n",
        "     result = 1\n",
        "     for n in range(start, end+1) : #{\n",
        "         result *= n\n",
        "     #}    \n",
        "\n",
        "     return result\n",
        "#}\n",
        "\n",
        "print(int(factorial(n+1, k) / factorial(1, k-n)))"
      ],
      "execution_count": 2,
      "outputs": [
        {
          "output_type": "stream",
          "text": [
            "6\n"
          ],
          "name": "stdout"
        }
      ]
    }
  ]
}