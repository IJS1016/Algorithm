{
  "nbformat": 4,
  "nbformat_minor": 0,
  "metadata": {
    "colab": {
      "name": "Code up #2001 for Greedy.ipynb",
      "provenance": [],
      "collapsed_sections": [],
      "authorship_tag": "ABX9TyNetDfwAjCj9eUso2h5DI9D",
      "include_colab_link": true
    },
    "kernelspec": {
      "name": "python3",
      "display_name": "Python 3"
    }
  },
  "cells": [
    {
      "cell_type": "markdown",
      "metadata": {
        "id": "view-in-github",
        "colab_type": "text"
      },
      "source": [
        "<a href=\"https://colab.research.google.com/github/IJS1016/Algorithm/blob/master/Code_up_2001_for_Greedy.ipynb\" target=\"_parent\"><img src=\"https://colab.research.google.com/assets/colab-badge.svg\" alt=\"Open In Colab\"/></a>"
      ]
    },
    {
      "cell_type": "code",
      "metadata": {
        "id": "CUFK-EKzTj1x",
        "colab_type": "code",
        "colab": {
          "base_uri": "https://localhost:8080/",
          "height": 107
        },
        "outputId": "481dfda6-0a0b-471e-e656-846f414d34f9"
      },
      "source": [
        "# 최소 대금\n",
        "# 모든 경우의 수를 다 따져보고 값이 같은 경우일 때도 생각해보기\n",
        "\n",
        "# pasta price\n",
        "pp1 = int(input())\n",
        "pp2 = int(input())\n",
        "pp3 = int(input())\n",
        "\n",
        "# juice price\n",
        "jp1 = int(input())\n",
        "jp2 = int(input())"
      ],
      "execution_count": 14,
      "outputs": [
        {
          "output_type": "stream",
          "text": [
            "1814\n",
            "1470\n",
            "1470\n",
            "777\n",
            "122\n"
          ],
          "name": "stdout"
        }
      ]
    },
    {
      "cell_type": "code",
      "metadata": {
        "id": "WO6JN5LthVHJ",
        "colab_type": "code",
        "colab": {
          "base_uri": "https://localhost:8080/",
          "height": 35
        },
        "outputId": "333fbcbd-376e-4ba6-b010-2448fee28317"
      },
      "source": [
        "min_pp = pp1\n",
        "min_jp = jp1\n",
        "\n",
        "if pp2 <= pp1 and pp2 <= pp3 : min_pp = pp2\n",
        "if pp3 <= pp2 and pp3 <= pp1  : min_pp = pp3\n",
        "\n",
        "if jp2 < jp1 : min_jp = jp2\n",
        "\n",
        "print(format((min_pp+min_jp)*1.1, \".1f\"))"
      ],
      "execution_count": 16,
      "outputs": [
        {
          "output_type": "stream",
          "text": [
            "1751.2\n"
          ],
          "name": "stdout"
        }
      ]
    }
  ]
}