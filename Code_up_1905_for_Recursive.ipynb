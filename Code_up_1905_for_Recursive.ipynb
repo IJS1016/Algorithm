{
  "nbformat": 4,
  "nbformat_minor": 0,
  "metadata": {
    "colab": {
      "name": "Code up #1905 for Recursive.ipynb",
      "provenance": [],
      "authorship_tag": "ABX9TyO1AEozu8tTwtmxMosrgbmw",
      "include_colab_link": true
    },
    "kernelspec": {
      "name": "python3",
      "display_name": "Python 3"
    }
  },
  "cells": [
    {
      "cell_type": "markdown",
      "metadata": {
        "id": "view-in-github",
        "colab_type": "text"
      },
      "source": [
        "<a href=\"https://colab.research.google.com/github/IJS1016/Algorithm/blob/master/Code_up_1905_for_Recursive.ipynb\" target=\"_parent\"><img src=\"https://colab.research.google.com/assets/colab-badge.svg\" alt=\"Open In Colab\"/></a>"
      ]
    },
    {
      "cell_type": "code",
      "metadata": {
        "id": "ZZb62V2M6V7m",
        "colab_type": "code",
        "colab": {}
      },
      "source": [
        "def n_sum(n, result) : #{\n",
        "    result += n\n",
        "\n",
        "    if n == 1 : return result\n",
        "    else : return n_sum(n-1, result)\n",
        "#}\n",
        "\n",
        "n = int(input())\n",
        "print(n_sum(n, 0))"
      ],
      "execution_count": 0,
      "outputs": []
    }
  ]
}