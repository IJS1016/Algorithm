{
  "nbformat": 4,
  "nbformat_minor": 0,
  "metadata": {
    "colab": {
      "name": "Code up #3120 for Greedy",
      "provenance": [],
      "authorship_tag": "ABX9TyNNY3W/u9dxu+nrQKFh574Y",
      "include_colab_link": true
    },
    "kernelspec": {
      "name": "python3",
      "display_name": "Python 3"
    }
  },
  "cells": [
    {
      "cell_type": "markdown",
      "metadata": {
        "id": "view-in-github",
        "colab_type": "text"
      },
      "source": [
        "<a href=\"https://colab.research.google.com/github/IJS1016/Algorithm/blob/master/Code_up_3120_for_Greedy.ipynb\" target=\"_parent\"><img src=\"https://colab.research.google.com/assets/colab-badge.svg\" alt=\"Open In Colab\"/></a>"
      ]
    },
    {
      "cell_type": "code",
      "metadata": {
        "id": "RQIafdU0nUOJ",
        "colab_type": "code",
        "colab": {
          "base_uri": "https://localhost:8080/",
          "height": 35
        },
        "outputId": "1c6c4b3d-c4b1-4ce7-a128-c10d83bb1719"
      },
      "source": [
        "# 3120: 리모컨\n",
        "# https://codeup.kr/problem.php?id=3120\n",
        "\n",
        "\n",
        "a, b = map(int, input().split(\" \"))"
      ],
      "execution_count": 19,
      "outputs": [
        {
          "output_type": "stream",
          "text": [
            "10 2\n"
          ],
          "name": "stdout"
        }
      ]
    },
    {
      "cell_type": "code",
      "metadata": {
        "id": "gG_JzeQIp4sp",
        "colab_type": "code",
        "colab": {}
      },
      "source": [
        "x   = abs(a - b)\n",
        "\n",
        "cnt = x//10\n",
        "y   = x%10\n",
        "\n",
        "if x == 0 : cnt = 0\n",
        "elif abs(y-10) <= 2 :#{\n",
        "    cnt += 1 + abs(y-10)\n",
        " #}\n",
        "elif abs(y-5) <= 2 : #{\n",
        "    cnt += 1 + abs(y-5)\n",
        "#}\n",
        "else: cnt += y"
      ],
      "execution_count": 0,
      "outputs": []
    },
    {
      "cell_type": "code",
      "metadata": {
        "id": "r9ExIy6qqdVY",
        "colab_type": "code",
        "colab": {
          "base_uri": "https://localhost:8080/",
          "height": 35
        },
        "outputId": "fac1083f-cb1f-494b-c48b-911a9aec7a50"
      },
      "source": [
        "print(cnt)"
      ],
      "execution_count": 21,
      "outputs": [
        {
          "output_type": "execute_result",
          "data": {
            "text/plain": [
              "3"
            ]
          },
          "metadata": {
            "tags": []
          },
          "execution_count": 21
        }
      ]
    }
  ]
}