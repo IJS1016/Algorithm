{
  "nbformat": 4,
  "nbformat_minor": 0,
  "metadata": {
    "colab": {
      "name": "Code up #2641 for Search.ipynb",
      "provenance": [],
      "collapsed_sections": [],
      "authorship_tag": "ABX9TyNDhWLXDHYnQlMis9iwa9qm",
      "include_colab_link": true
    },
    "kernelspec": {
      "name": "python3",
      "display_name": "Python 3"
    }
  },
  "cells": [
    {
      "cell_type": "markdown",
      "metadata": {
        "id": "view-in-github",
        "colab_type": "text"
      },
      "source": [
        "<a href=\"https://colab.research.google.com/github/IJS1016/Algorithm/blob/master/Code_up_2641_for_Search.ipynb\" target=\"_parent\"><img src=\"https://colab.research.google.com/assets/colab-badge.svg\" alt=\"Open In Colab\"/></a>"
      ]
    },
    {
      "cell_type": "code",
      "metadata": {
        "id": "CsYPNOBl6VCU",
        "colab_type": "code",
        "colab": {
          "base_uri": "https://localhost:8080/",
          "height": 52
        },
        "outputId": "6cba8c67-0552-455a-bbd9-f39aaf129dd6"
      },
      "source": [
        "# Codeup #2641 for Search\n",
        "# https://codeup.kr/problem.php?id=2641\n",
        "\n",
        "n = int(input())\n",
        "\n",
        "result = 0\n",
        "\n",
        "def count_stair(total, check3) : #{\n",
        "    global result\n",
        "\n",
        "    check3 -= 1 \n",
        "\n",
        "    if   n == 0 : return 0\n",
        "\n",
        "    if n - total >= 1 : count_stair(total+1, check3)  \n",
        "    if n - total >= 2 : count_stair(total+2, check3)\n",
        "    if n - total >= 3 and check3 <= 0: count_stair(total+3, 3)\n",
        "    \n",
        "    elif total == n : result += 1\n",
        "#}\n",
        "\n",
        "count_stair(0, 0)\n",
        "\n",
        "print(result)"
      ],
      "execution_count": 10,
      "outputs": [
        {
          "output_type": "stream",
          "text": [
            "7\n",
            "41\n"
          ],
          "name": "stdout"
        }
      ]
    }
  ]
}