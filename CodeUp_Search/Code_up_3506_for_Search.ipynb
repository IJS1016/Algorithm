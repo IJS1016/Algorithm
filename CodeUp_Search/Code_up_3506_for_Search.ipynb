{
  "nbformat": 4,
  "nbformat_minor": 0,
  "metadata": {
    "colab": {
      "name": "Code up #3506 for Search.ipynb",
      "provenance": [],
      "authorship_tag": "ABX9TyPIBHCQR52Wn1CaE/djpVHW",
      "include_colab_link": true
    },
    "kernelspec": {
      "name": "python3",
      "display_name": "Python 3"
    }
  },
  "cells": [
    {
      "cell_type": "markdown",
      "metadata": {
        "id": "view-in-github",
        "colab_type": "text"
      },
      "source": [
        "<a href=\"https://colab.research.google.com/github/IJS1016/Algorithm/blob/master/Code_up_3506_for_Search.ipynb\" target=\"_parent\"><img src=\"https://colab.research.google.com/assets/colab-badge.svg\" alt=\"Open In Colab\"/></a>"
      ]
    },
    {
      "cell_type": "code",
      "metadata": {
        "id": "f6gloy4LvMX1",
        "colab_type": "code",
        "colab": {
          "base_uri": "https://localhost:8080/",
          "height": 34
        },
        "outputId": "abbed5ff-fc14-4f2d-994f-eed5c19c2c0c"
      },
      "source": [
        "# CodeUp # 3506 : 블럭 채우기 1 (Small)\n",
        "# https://codeup.kr/problem.php?id=3506\n",
        "\n",
        "n =int(input())"
      ],
      "execution_count": 6,
      "outputs": [
        {
          "output_type": "stream",
          "text": [
            "3\n"
          ],
          "name": "stdout"
        }
      ]
    },
    {
      "cell_type": "code",
      "metadata": {
        "id": "4PO51H3gvlwy",
        "colab_type": "code",
        "colab": {
          "base_uri": "https://localhost:8080/",
          "height": 34
        },
        "outputId": "dbf80470-1dfe-47a9-ef2f-18951b5a7995"
      },
      "source": [
        "cnt = 0\n",
        "#n   = 3\n",
        "\n",
        "def factorial(n) : #{\n",
        "    result = 1\n",
        "    for i in range(1, n+1) : #{\n",
        "        result *= i\n",
        "    #}    \n",
        "    return result\n",
        "#}\n",
        "\n",
        "for i in range(int(n/2)+1) : #{\n",
        "    v = n - i*2\n",
        "    #print(v, i)\n",
        "\n",
        "    if v == 0 : #{\n",
        "        cnt += 1\n",
        "    #}\n",
        "    else : \n",
        "      cnt += int(factorial(i+v) / (factorial(i)*factorial(v)))\n",
        "      #print(factorial(i+v), factorial(i), factorial(v))\n",
        "#}\n",
        "\n",
        "print(cnt)"
      ],
      "execution_count": 14,
      "outputs": [
        {
          "output_type": "stream",
          "text": [
            "3\n"
          ],
          "name": "stdout"
        }
      ]
    },
    {
      "cell_type": "code",
      "metadata": {
        "id": "1Lb9AmYh0T37",
        "colab_type": "code",
        "colab": {}
      },
      "source": [
        ""
      ],
      "execution_count": 0,
      "outputs": []
    }
  ]
}