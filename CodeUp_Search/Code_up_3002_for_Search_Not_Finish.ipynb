{
  "nbformat": 4,
  "nbformat_minor": 0,
  "metadata": {
    "colab": {
      "name": "Code up #3002 for Search_Not_Finish.ipynb",
      "provenance": [],
      "collapsed_sections": [],
      "authorship_tag": "ABX9TyP7vV2fNSKXEjpUBU1qD8E5",
      "include_colab_link": true
    },
    "kernelspec": {
      "name": "python3",
      "display_name": "Python 3"
    }
  },
  "cells": [
    {
      "cell_type": "markdown",
      "metadata": {
        "id": "view-in-github",
        "colab_type": "text"
      },
      "source": [
        "<a href=\"https://colab.research.google.com/github/IJS1016/Algorithm/blob/master/Code_up_3002_for_Search_Not_Finish.ipynb\" target=\"_parent\"><img src=\"https://colab.research.google.com/assets/colab-badge.svg\" alt=\"Open In Colab\"/></a>"
      ]
    },
    {
      "cell_type": "code",
      "metadata": {
        "id": "Nc2Ao4qB_Lyu",
        "colab_type": "code",
        "colab": {
          "base_uri": "https://localhost:8080/",
          "height": 105
        },
        "outputId": "4da02ae6-c51d-479a-c28a-f2b06cb6c4d9"
      },
      "source": [
        "# CodeUp #4791 : 사냥꾼\n",
        "# https://codeup.kr/problem.php?id=4791\n",
        "# 예제 맞는데 왜 답이 프린트 안되냐\n",
        "\n",
        "m_num, n_num, l = list(map(int, input().split(\" \")))\n",
        "m_set = list(map(int, input().split(\" \")))\n",
        "n_set = []\n",
        "\n",
        "for _ in range(n_num) : #{\n",
        "    n_set.append(list(map(int, input().split(\" \"))))    \n",
        "#}"
      ],
      "execution_count": 7,
      "outputs": [
        {
          "output_type": "stream",
          "text": [
            "4 3 13\n",
            "7 13 16 1\n",
            "2 2\n",
            "3 18\n",
            "17 7\n"
          ],
          "name": "stdout"
        }
      ]
    },
    {
      "cell_type": "code",
      "metadata": {
        "id": "gTsN-KbJlKK1",
        "colab_type": "code",
        "colab": {
          "base_uri": "https://localhost:8080/",
          "height": 34
        },
        "outputId": "09489231-f3dc-4dbf-e237-85e53d18a744"
      },
      "source": [
        "'''\n",
        "# For Testing\n",
        "m_set = '7 13 16 1'\n",
        "m_set = list(map(int, m_set.split(\" \")))\n",
        "l = 13\n",
        "n_set =[[2, 2],\n",
        "        [3, 18],\n",
        "        [17, 7]]\n",
        "'''\n",
        "\n",
        "cnt = 0\n",
        "\n",
        "for n in n_set : #{\n",
        "    for m in m_set : #{\n",
        "        if abs(m-n[0])+n[1] <= l : #{\n",
        "            cnt += 1\n",
        "            break    \n",
        "        #}  \n",
        "    #}    \n",
        "#}\n",
        "\n",
        "print(cnt)"
      ],
      "execution_count": 8,
      "outputs": [
        {
          "output_type": "stream",
          "text": [
            "2\n"
          ],
          "name": "stdout"
        }
      ]
    }
  ]
}