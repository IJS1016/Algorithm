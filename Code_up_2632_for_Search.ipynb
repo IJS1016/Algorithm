{
  "nbformat": 4,
  "nbformat_minor": 0,
  "metadata": {
    "colab": {
      "name": "Code up #2632 for Search.ipynb",
      "provenance": [],
      "collapsed_sections": [],
      "authorship_tag": "ABX9TyOvuZ2aziNRQw0wa34z/Qoh",
      "include_colab_link": true
    },
    "kernelspec": {
      "name": "python3",
      "display_name": "Python 3"
    }
  },
  "cells": [
    {
      "cell_type": "markdown",
      "metadata": {
        "id": "view-in-github",
        "colab_type": "text"
      },
      "source": [
        "<a href=\"https://colab.research.google.com/github/IJS1016/Algorithm/blob/master/Code_up_2632_for_Search.ipynb\" target=\"_parent\"><img src=\"https://colab.research.google.com/assets/colab-badge.svg\" alt=\"Open In Colab\"/></a>"
      ]
    },
    {
      "cell_type": "code",
      "metadata": {
        "id": "zApMX-bgPC98",
        "colab_type": "code",
        "colab": {
          "base_uri": "https://localhost:8080/",
          "height": 34
        },
        "outputId": "5bf6d0d7-79ab-43f2-c34a-8adba766bcfc"
      },
      "source": [
        "# CodeUp 2632 : 계단 오르기 1\n",
        "\n",
        "n = int(input())\n",
        "\n",
        "# n번 = n-1번 계단을 한번 오르는 수 + n-2번 계단을 두번 오르는 수"
      ],
      "execution_count": null,
      "outputs": [
        {
          "output_type": "stream",
          "text": [
            "3\n"
          ],
          "name": "stdout"
        }
      ]
    },
    {
      "cell_type": "code",
      "metadata": {
        "id": "MLRAEp65RG1L",
        "colab_type": "code",
        "colab": {
          "base_uri": "https://localhost:8080/",
          "height": 34
        },
        "outputId": "cb0242d3-3a6f-4f5b-c1e1-93b519db98df"
      },
      "source": [
        "history_climb = []\n",
        "\n",
        "def cnt_climb_set(cnt, history_climb) : #{\n",
        "    if cnt == n : #{\n",
        "      print(sum(history_climb))\n",
        "      return\n",
        "\n",
        "    else : #{\n",
        "        cnt_climb_set(cnt+1, [history_climb[1], sum(history_climb)])\n",
        "    #} \n",
        "#}\n",
        "\n",
        "cnt_climb_set(1, [0, 1])"
      ],
      "execution_count": 6,
      "outputs": [
        {
          "output_type": "stream",
          "text": [
            "8\n"
          ],
          "name": "stdout"
        }
      ]
    }
  ]
}