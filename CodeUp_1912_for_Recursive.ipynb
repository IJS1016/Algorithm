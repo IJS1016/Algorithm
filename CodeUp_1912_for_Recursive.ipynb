{
  "nbformat": 4,
  "nbformat_minor": 0,
  "metadata": {
    "colab": {
      "name": "CodeUp_1912_for_Recursive.ipynb",
      "provenance": [],
      "authorship_tag": "ABX9TyN9ho0GhfKbkQTo1YmEmwyr",
      "include_colab_link": true
    },
    "kernelspec": {
      "name": "python3",
      "display_name": "Python 3"
    }
  },
  "cells": [
    {
      "cell_type": "markdown",
      "metadata": {
        "id": "view-in-github",
        "colab_type": "text"
      },
      "source": [
        "<a href=\"https://colab.research.google.com/github/IJS1016/Algorithm/blob/master/CodeUp_1912_for_Recursive.ipynb\" target=\"_parent\"><img src=\"https://colab.research.google.com/assets/colab-badge.svg\" alt=\"Open In Colab\"/></a>"
      ]
    },
    {
      "cell_type": "code",
      "metadata": {
        "id": "bWCPp5YBqpV1",
        "colab_type": "code",
        "colab": {
          "base_uri": "https://localhost:8080/",
          "height": 52
        },
        "outputId": "67278c4c-a096-40f8-a931-3e98e01a9903"
      },
      "source": [
        "# CodeUp 1912 : (재귀함수) 팩토리얼 계산\n",
        "# https://codeup.kr/problem.php?id=1912\n",
        "n = int(input())\n",
        "\n",
        "result = 1\n",
        "\n",
        "def factorial(n) : #{\n",
        "    global result\n",
        "\n",
        "    if n == 0 : return\n",
        "    result = result * n\n",
        "    return factorial(n-1)\n",
        "#}\n",
        "\n",
        "factorial(n)\n",
        "print(result)"
      ],
      "execution_count": 5,
      "outputs": [
        {
          "output_type": "stream",
          "text": [
            "5\n",
            "120\n"
          ],
          "name": "stdout"
        }
      ]
    }
  ]
}