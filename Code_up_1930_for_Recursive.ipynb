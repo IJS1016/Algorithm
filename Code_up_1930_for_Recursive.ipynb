{
  "nbformat": 4,
  "nbformat_minor": 0,
  "metadata": {
    "colab": {
      "name": "Code up #1930 for Recursive.ipynb",
      "provenance": [],
      "collapsed_sections": [],
      "authorship_tag": "ABX9TyMde9yVqyJJCFKzc7FF2kw5",
      "include_colab_link": true
    },
    "kernelspec": {
      "name": "python3",
      "display_name": "Python 3"
    }
  },
  "cells": [
    {
      "cell_type": "markdown",
      "metadata": {
        "id": "view-in-github",
        "colab_type": "text"
      },
      "source": [
        "<a href=\"https://colab.research.google.com/github/IJS1016/Algorithm/blob/master/Code_up_1930_for_Recursive.ipynb\" target=\"_parent\"><img src=\"https://colab.research.google.com/assets/colab-badge.svg\" alt=\"Open In Colab\"/></a>"
      ]
    },
    {
      "cell_type": "code",
      "metadata": {
        "id": "Wt7Dj5P4R4dn",
        "colab_type": "code",
        "colab": {
          "base_uri": "https://localhost:8080/",
          "height": 34
        },
        "outputId": "bf6b4856-359a-44fe-fc8c-41ce5c6525f8"
      },
      "source": [
        "# CodeUp 1930 : SuperSum\n",
        "# https://codeup.kr/problem.php?id=1930\n",
        "import sys\n",
        "\n",
        "k = []\n",
        "n = []\n",
        "\n",
        "\n",
        "# input() 보다 sys.stdin.readline()이 더욱 빠르다. (Colab에서 stdin을 받지 않는다... 왜지?)\n",
        "# 입력이 끝날 때까지 입력을 받는다\n",
        "for line in sys.stdin: #{\n",
        "    tmp_k, tmp_n = map(int, line.split(\" \"))   # 해당 입력을 각 리스트에 저장시키기 위해 tmp_k, tmp_n로 나누어 준다.\n",
        "    k.append(tmp_k)\n",
        "    n.append(tmp_n)\n",
        "#}\n",
        "\n",
        "# 결과를 저장할 memory list를 선언하자\n",
        "# 초기 값으로는 -1을 설정했다.\n",
        "memory = [[-1 for _ in range(max(n)+1)] for _ in range(max(k)+1)]    "
      ],
      "execution_count": 25,
      "outputs": [
        {
          "output_type": "stream",
          "text": [
            "[]\n"
          ],
          "name": "stdout"
        }
      ]
    },
    {
      "cell_type": "code",
      "metadata": {
        "id": "bexzifNpSXE5",
        "colab_type": "code",
        "colab": {
          "base_uri": "https://localhost:8080/",
          "height": 34
        },
        "outputId": "a1297f60-8e22-4f32-8599-5d244f030ecf"
      },
      "source": [
        "# 메모이제이션(memoization)을 이용한 풀이\n",
        "# 동일 계산을 반복할 때 이전에 계산한 값을 저장하므로서 속도를 빠르게 하는 기술이다.\n",
        "\n",
        "def supersum(k, n) : #{\n",
        "    global memory\n",
        "\n",
        "    # k = 0 일 때 n 리턴\n",
        "    if k == 0 : #{\n",
        "        memory[0][n] = n   # 결과 저장 리스트인 memory에 저장한다.\n",
        "        return n\n",
        "    #}\n",
        "\n",
        "    if memory[k][n] == -1 : #{  # memory에 계산된 결과가 없다면 계산한다.\n",
        "        result = 0\n",
        "\n",
        "        for i in range(1, n+1) : #{ # n번을 재귀로 돌며 계산을 실행한다.\n",
        "            result += supersum(k-1, i)    \n",
        "        #}\n",
        "        memory[k][n] = result   # 결과 저장 리스트인 memory에 저장한다.\n",
        "        return result\n",
        "    #}\n",
        "    else : #{ # memory에 계산된 결과가 있는 경우로 가져다가 사용한다.\n",
        "        return memory[k][n]\n",
        "        #}\n",
        "    #}\n",
        "#}\n",
        "\n",
        "'''\n",
        "# FOR TESTING\n",
        "k = 2\n",
        "n = 3\n",
        "memory = [[-1 for _ in range(n+1)] for _ in range(k+1)] \n",
        "supersum(k, n)\n",
        "'''\n",
        "\n",
        "for i in range(len(k)) : #{\n",
        "    print(supersum(k[i], n[i]))\n",
        "#}"
      ],
      "execution_count": 16,
      "outputs": [
        {
          "output_type": "execute_result",
          "data": {
            "text/plain": [
              "10"
            ]
          },
          "metadata": {
            "tags": []
          },
          "execution_count": 16
        }
      ]
    },
    {
      "cell_type": "code",
      "metadata": {
        "id": "Jx-zFq17ToyY",
        "colab_type": "code",
        "colab": {}
      },
      "source": [
        "\n"
      ],
      "execution_count": 0,
      "outputs": []
    }
  ]
}