{
  "nbformat": 4,
  "nbformat_minor": 0,
  "metadata": {
    "colab": {
      "name": "Code up #1916 for Recursive ",
      "provenance": [],
      "authorship_tag": "ABX9TyPDckOVKNd1760qvPRhsZy9",
      "include_colab_link": true
    },
    "kernelspec": {
      "name": "python3",
      "display_name": "Python 3"
    }
  },
  "cells": [
    {
      "cell_type": "markdown",
      "metadata": {
        "id": "view-in-github",
        "colab_type": "text"
      },
      "source": [
        "<a href=\"https://colab.research.google.com/github/IJS1016/Algorithm/blob/master/Code_up_1916_for_Recursive.ipynb\" target=\"_parent\"><img src=\"https://colab.research.google.com/assets/colab-badge.svg\" alt=\"Open In Colab\"/></a>"
      ]
    },
    {
      "cell_type": "code",
      "metadata": {
        "id": "zGo9nZjC91Hf",
        "colab_type": "code",
        "colab": {
          "base_uri": "https://localhost:8080/",
          "height": 53
        },
        "outputId": "53c0b6ba-1a05-4e95-ccb9-449b4feb3297"
      },
      "source": [
        "# https://codeup.kr/problem.php?id=1916\n",
        "# (재귀함수) 피보나치 수열 (Large)\n",
        "\n",
        "def fibonacci(n, r1, r2) : #{\n",
        "    if n > 2 : \n",
        "        return(fibonacci(n-1, r2, r1 + r2))\n",
        "    else : return r1+r2\n",
        "#}\n",
        "\n",
        "n = int(input())\n",
        "print(fibonacci(n, 0, 1)%10009)"
      ],
      "execution_count": 11,
      "outputs": [
        {
          "output_type": "stream",
          "text": [
            "7\n",
            "13\n"
          ],
          "name": "stdout"
        }
      ]
    }
  ]
}