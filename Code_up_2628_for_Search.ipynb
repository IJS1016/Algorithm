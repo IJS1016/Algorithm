{
  "nbformat": 4,
  "nbformat_minor": 0,
  "metadata": {
    "colab": {
      "name": "Code up #2628 for Search",
      "provenance": [],
      "collapsed_sections": [],
      "authorship_tag": "ABX9TyOxIoscT7R+lBcIDKZqsNd8",
      "include_colab_link": true
    },
    "kernelspec": {
      "name": "python3",
      "display_name": "Python 3"
    }
  },
  "cells": [
    {
      "cell_type": "markdown",
      "metadata": {
        "id": "view-in-github",
        "colab_type": "text"
      },
      "source": [
        "<a href=\"https://colab.research.google.com/github/IJS1016/Algorithm/blob/master/Code_up_2628_for_Search.ipynb\" target=\"_parent\"><img src=\"https://colab.research.google.com/assets/colab-badge.svg\" alt=\"Open In Colab\"/></a>"
      ]
    },
    {
      "cell_type": "code",
      "metadata": {
        "id": "gWImdoQo96GV",
        "colab_type": "code",
        "colab": {
          "base_uri": "https://localhost:8080/",
          "height": 53
        },
        "outputId": "9c96811f-951d-4f25-b342-181745b2e237"
      },
      "source": [
        "# 탐색 기반 기본 문제\n",
        "# Code up #2623 케익자르기\n",
        "\n",
        "a, b = list(map(int, input().split(\" \")))\n",
        "c, d = list(map(int, input().split(\" \")))"
      ],
      "execution_count": 20,
      "outputs": [
        {
          "output_type": "stream",
          "text": [
            "1 100\n",
            "2 90\n"
          ],
          "name": "stdout"
        }
      ]
    },
    {
      "cell_type": "code",
      "metadata": {
        "id": "cePJ_uuzMMlP",
        "colab_type": "code",
        "colab": {}
      },
      "source": [
        "def check_crosss(a, b, c, d) : #{}\n",
        "    if a > b : #{\n",
        "      tmp = a  \n",
        "      a = b\n",
        "      b = tmp  \n",
        "    #}\n",
        "    if c > d : #{\n",
        "      tmp = c  \n",
        "      c = d\n",
        "      d = tmp  \n",
        "    #}\n",
        "\n",
        "    if c > a  and c < b and (d < a or d > b) : print(\"cross\")\n",
        "    elif d > a  and d < b and (c < a or c > b) : print(\"cross\")\n",
        "    \n",
        "    else : print(\"not cross\")\n",
        "#}"
      ],
      "execution_count": 0,
      "outputs": []
    },
    {
      "cell_type": "code",
      "metadata": {
        "id": "56v8XB7ZNFcg",
        "colab_type": "code",
        "colab": {
          "base_uri": "https://localhost:8080/",
          "height": 35
        },
        "outputId": "0a6dfb2b-e299-4c40-9ab3-4c3772d92ed1"
      },
      "source": [
        "check_crosss(a, b, c, d)"
      ],
      "execution_count": 23,
      "outputs": [
        {
          "output_type": "stream",
          "text": [
            "not cross\n"
          ],
          "name": "stdout"
        }
      ]
    }
  ]
}