{
  "nbformat": 4,
  "nbformat_minor": 0,
  "metadata": {
    "colab": {
      "name": "Code up #3301 거스름돈 for Greedy.ipynb",
      "provenance": [],
      "authorship_tag": "ABX9TyN5znN9jCIxfsmenJ5qyt+l",
      "include_colab_link": true
    },
    "kernelspec": {
      "name": "python3",
      "display_name": "Python 3"
    }
  },
  "cells": [
    {
      "cell_type": "markdown",
      "metadata": {
        "id": "view-in-github",
        "colab_type": "text"
      },
      "source": [
        "<a href=\"https://colab.research.google.com/github/IJS1016/Algorithm/blob/master/Code_up_3301_%EA%B1%B0%EC%8A%A4%EB%A6%84%EB%8F%88_for_Greedy.ipynb\" target=\"_parent\"><img src=\"https://colab.research.google.com/assets/colab-badge.svg\" alt=\"Open In Colab\"/></a>"
      ]
    },
    {
      "cell_type": "code",
      "metadata": {
        "id": "nqS8lRtdIAiS",
        "colab_type": "code",
        "outputId": "16defff5-6dec-4d55-b6a3-4b89bfa7624f",
        "colab": {
          "base_uri": "https://localhost:8080/",
          "height": 52
        }
      },
      "source": [
        "# Code up 3301 : 거스름돈\n",
        "# https://codeup.kr/problem.php?id=3301\n",
        "\n",
        "change = int(input())\n",
        "\n",
        "num = 0\n",
        "money = [50000, 10000, 5000, 1000, 500, 100, 50, 10]\n",
        "\n",
        "for m in money : #[\n",
        "    num += change//m\n",
        "    change = change%m\n",
        "#]\n",
        "\n",
        "print(num)"
      ],
      "execution_count": 0,
      "outputs": [
        {
          "output_type": "stream",
          "text": [
            "0\n",
            "0\n"
          ],
          "name": "stdout"
        }
      ]
    }
  ]
}