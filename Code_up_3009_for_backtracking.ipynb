{
  "nbformat": 4,
  "nbformat_minor": 0,
  "metadata": {
    "colab": {
      "name": "Code up #3009 for backtracking.ipynb",
      "provenance": [],
      "collapsed_sections": [],
      "authorship_tag": "ABX9TyNDLFxSx1n9tE5fklExVbUV",
      "include_colab_link": true
    },
    "kernelspec": {
      "name": "python3",
      "display_name": "Python 3"
    }
  },
  "cells": [
    {
      "cell_type": "markdown",
      "metadata": {
        "id": "view-in-github",
        "colab_type": "text"
      },
      "source": [
        "<a href=\"https://colab.research.google.com/github/IJS1016/Algorithm/blob/master/Code_up_3009_for_backtracking.ipynb\" target=\"_parent\"><img src=\"https://colab.research.google.com/assets/colab-badge.svg\" alt=\"Open In Colab\"/></a>"
      ]
    },
    {
      "cell_type": "code",
      "metadata": {
        "id": "lBGaUUmoXaV9",
        "colab_type": "code",
        "colab": {
          "base_uri": "https://localhost:8080/",
          "height": 52
        },
        "outputId": "e6cad0c2-b125-48b8-f5ba-c49b3ff40769"
      },
      "source": [
        "# CodeUp 3009 : 부분수열의 합\n",
        "# https://codeup.kr/problem.php?id=3009\n",
        "# 예제 답이 맞는데 잘못된 풀이라고 뜬다.\n",
        "\n",
        "n, s  = list(map(int,input().split(\" \")))\n",
        "n_set = list(map(int,input().split(\" \")))\n",
        "n_set = n_set[:n]"
      ],
      "execution_count": 12,
      "outputs": [
        {
          "output_type": "stream",
          "text": [
            "1 1\n",
            "1\n"
          ],
          "name": "stdout"
        }
      ]
    },
    {
      "cell_type": "code",
      "metadata": {
        "id": "jWL6-unVj4JD",
        "colab_type": "code",
        "outputId": "5b4b93a9-a65d-4ead-f0b5-d9900dc6da59",
        "colab": {
          "base_uri": "https://localhost:8080/",
          "height": 34
        }
      },
      "source": [
        "# for Testing\n",
        "#n_set = [-7, -3, -2, 5, 8]\n",
        "#s = 0\n",
        "\n",
        "cnt = 0\n",
        "\n",
        "def calculate_sum(tmp, n_set) : #{\n",
        "    global cnt\n",
        "\n",
        "    if len(n_set) == 0 : return 0\n",
        "\n",
        "    calculate_sum(tmp + n_set[0], n_set[1:])\n",
        "    calculate_sum(tmp, n_set[1:])\n",
        "\n",
        "    if tmp + n_set[0] == s : cnt += 1\n",
        "#}\n",
        "\n",
        "calculate_sum(0, n_set)\n",
        "print(cnt)"
      ],
      "execution_count": 13,
      "outputs": [
        {
          "output_type": "stream",
          "text": [
            "1\n"
          ],
          "name": "stdout"
        }
      ]
    },
    {
      "cell_type": "code",
      "metadata": {
        "id": "KWMVBUxDuKLq",
        "colab_type": "code",
        "outputId": "1642a607-c7b1-4515-a132-73c3b76e3bf1",
        "colab": {
          "base_uri": "https://localhost:8080/",
          "height": 34
        }
      },
      "source": [
        ""
      ],
      "execution_count": 0,
      "outputs": [
        {
          "output_type": "execute_result",
          "data": {
            "text/plain": [
              "[]"
            ]
          },
          "metadata": {
            "tags": []
          },
          "execution_count": 1
        }
      ]
    }
  ]
}